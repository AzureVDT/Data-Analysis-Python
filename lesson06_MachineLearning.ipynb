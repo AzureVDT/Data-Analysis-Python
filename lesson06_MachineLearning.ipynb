{
 "cells": [
  {
   "cell_type": "markdown",
   "metadata": {},
   "source": [
    "# Machine Learning\n",
    "## Historical Data\n",
    "- Prediction: Dự báo (Output đầu ra là định lượng)\n",
    "- Classification: Phân lớp (Output đầu ra là định tính)\n",
    "- Clustering: Gom cụm (Có Input nhưng không có Output sẵn)\n",
    "- Association: Luật kết hợp (Có Input nhưng không có Output sẵn)\n",
    "\n",
    "## Learning\n",
    "- Học có giám sát: Supervised: Bài toán cần xây dựng mô hình mà trong đó dữ liệu lịch sử đã chứa sẵn Input và Output\n",
    "- Học không giám sát: Unsupervised: Bài toán mà ở đó có dữ liệu Input nhưng không có dữ liệu Output sẵn\n",
    "- Học bán giám sát: semi-supervised: Khi dữ liệu lịch sử có sẵn Input nhưng phần Output lại chưa rõ ràng hoặc không đầy đủ và cần phải được điều chế để có thể áp dụng mô hình giám sát"
   ]
  },
  {
   "cell_type": "markdown",
   "metadata": {},
   "source": [
    "# Machine Learning PipeLine\n",
    "- Problem -> Data Preparation | -> Input(v) -> Model(f) -> Output(v)\n",
    "### Tách Input:\n",
    "- Training (80% data) -> Model\n",
    "- Testing (20% data)\n",
    "- Validation (Training & Testing) (Yes => continue | No => Back Input) -> Deployment"
   ]
  },
  {
   "cell_type": "code",
   "execution_count": 3,
   "metadata": {},
   "outputs": [
    {
     "data": {
      "text/html": [
       "<div>\n",
       "<style scoped>\n",
       "    .dataframe tbody tr th:only-of-type {\n",
       "        vertical-align: middle;\n",
       "    }\n",
       "\n",
       "    .dataframe tbody tr th {\n",
       "        vertical-align: top;\n",
       "    }\n",
       "\n",
       "    .dataframe thead th {\n",
       "        text-align: right;\n",
       "    }\n",
       "</style>\n",
       "<table border=\"1\" class=\"dataframe\">\n",
       "  <thead>\n",
       "    <tr style=\"text-align: right;\">\n",
       "      <th></th>\n",
       "      <th>T5</th>\n",
       "      <th>T6</th>\n",
       "      <th>NGONNGU</th>\n",
       "    </tr>\n",
       "  </thead>\n",
       "  <tbody>\n",
       "    <tr>\n",
       "      <th>0</th>\n",
       "      <td>7.4</td>\n",
       "      <td>6.9</td>\n",
       "      <td>3.25</td>\n",
       "    </tr>\n",
       "    <tr>\n",
       "      <th>1</th>\n",
       "      <td>3.0</td>\n",
       "      <td>4.0</td>\n",
       "      <td>6.00</td>\n",
       "    </tr>\n",
       "    <tr>\n",
       "      <th>2</th>\n",
       "      <td>4.8</td>\n",
       "      <td>5.7</td>\n",
       "      <td>5.00</td>\n",
       "    </tr>\n",
       "    <tr>\n",
       "      <th>3</th>\n",
       "      <td>6.1</td>\n",
       "      <td>7.4</td>\n",
       "      <td>4.25</td>\n",
       "    </tr>\n",
       "    <tr>\n",
       "      <th>4</th>\n",
       "      <td>6.8</td>\n",
       "      <td>8.0</td>\n",
       "      <td>4.25</td>\n",
       "    </tr>\n",
       "  </tbody>\n",
       "</table>\n",
       "</div>"
      ],
      "text/plain": [
       "    T5   T6  NGONNGU\n",
       "0  7.4  6.9     3.25\n",
       "1  3.0  4.0     6.00\n",
       "2  4.8  5.7     5.00\n",
       "3  6.1  7.4     4.25\n",
       "4  6.8  8.0     4.25"
      ]
     },
     "execution_count": 3,
     "metadata": {},
     "output_type": "execute_result"
    }
   ],
   "source": [
    "import pandas as pd\n",
    "import seaborn as sns\n",
    "import matplotlib.pyplot as plt\n",
    "df = pd.read_csv('dulieuxettuyendaihoc.csv', header=0, delimiter=',', encoding='utf-8')\n",
    "# Đổi tên cột\n",
    "df.rename(columns={'TOANLOGICPHANTICH': 'LOGIC', 'GIAIQUYETVANDE': 'UNGXU'}, inplace=True)\n",
    "df = df[['T5', 'T6', 'NGONNGU']]\n",
    "df.head(5)"
   ]
  },
  {
   "cell_type": "code",
   "execution_count": 4,
   "metadata": {},
   "outputs": [
    {
     "data": {
      "text/html": [
       "<div>\n",
       "<style scoped>\n",
       "    .dataframe tbody tr th:only-of-type {\n",
       "        vertical-align: middle;\n",
       "    }\n",
       "\n",
       "    .dataframe tbody tr th {\n",
       "        vertical-align: top;\n",
       "    }\n",
       "\n",
       "    .dataframe thead th {\n",
       "        text-align: right;\n",
       "    }\n",
       "</style>\n",
       "<table border=\"1\" class=\"dataframe\">\n",
       "  <thead>\n",
       "    <tr style=\"text-align: right;\">\n",
       "      <th></th>\n",
       "      <th>T5</th>\n",
       "      <th>T6</th>\n",
       "    </tr>\n",
       "  </thead>\n",
       "  <tbody>\n",
       "    <tr>\n",
       "      <th>T5</th>\n",
       "      <td>1.000000</td>\n",
       "      <td>0.778683</td>\n",
       "    </tr>\n",
       "    <tr>\n",
       "      <th>T6</th>\n",
       "      <td>0.778683</td>\n",
       "      <td>1.000000</td>\n",
       "    </tr>\n",
       "  </tbody>\n",
       "</table>\n",
       "</div>"
      ],
      "text/plain": [
       "          T5        T6\n",
       "T5  1.000000  0.778683\n",
       "T6  0.778683  1.000000"
      ]
     },
     "execution_count": 4,
     "metadata": {},
     "output_type": "execute_result"
    }
   ],
   "source": [
    "# Dẫn nhập hồi quy tuyến tính\n",
    "# Ứng dụng trong bài toán Prediction\n",
    "\n",
    "# Bài toán 1: Hãy dự báo điểm T6 dựa trên T5\n",
    "# Input: T5\n",
    "# Output: T6\n",
    "# Model là Hồi quy tuyến tính: T6 = A0 + A1*T5 + espilon\n",
    "# Dùng học máy (Machine Learning) để đi tìm A0 và A1 dựa trên dữ liệu lịch sử (Historical Data)\n",
    "df[['T5', 'T6']].corr() # Xác định tưởng quan cũng chúng -> Nhận thấy tương quan tốt\n",
    "# plt.plot(df['T5'], df['T6'], 'ro')\n"
   ]
  },
  {
   "cell_type": "code",
   "execution_count": 8,
   "metadata": {},
   "outputs": [
    {
     "name": "stdout",
     "output_type": "stream",
     "text": [
      "[2.15188873]\n",
      "[[0.71126425]]\n"
     ]
    }
   ],
   "source": [
    "# Tập dữ liệu\n",
    "x = df['T5'].values #input\n",
    "y = df['T6'].values #output\n",
    "# Chia tách ra training(huấn luyện) và testing(kiểm thử)\n",
    "from sklearn.model_selection import train_test_split\n",
    "x_train, x_test, y_train, y_test = train_test_split(x, y, test_size=0.2, random_state=16) \n",
    "\n",
    "# Xây dựng mô hình hồi quy tuyến tính đơn biến: T6 = f(T5)\n",
    "# T6 = A0 + A1*T5 + espilon\n",
    "from sklearn import linear_model\n",
    "model = linear_model.LinearRegression()\n",
    "model.fit(x_train.reshape(-1,1), y_train.reshape(-1,1))\n",
    "# Sinh viên xác định các giá trị này tương ứng với gì\n",
    "# To retrieve the intercept:\n",
    "print(model.intercept_) # A0\n",
    "\n",
    "# For retrieving the slope (coefficient of x):\n",
    "print(model.coef_) # A1\n",
    "\n",
    "# -> T6 = 2.15 + 0.71 * T5"
   ]
  },
  {
   "cell_type": "code",
   "execution_count": 9,
   "metadata": {},
   "outputs": [],
   "source": [
    "# Residual: là độ lệch giữa giá trị dự báo(Predicted value) và giá trị thực tế(Actual Value)\n",
    "# Độ lệch = Actual Value - Predicted Value\n",
    "# Hướng dẫn vẽ biểu đồ Residual bằng Excel\n",
    "pd.DataFrame(x_test).to_csv(\"input_test.csv\")\n",
    "pd.DataFrame(y_test).to_csv(\"output_test.csv\")"
   ]
  },
  {
   "cell_type": "code",
   "execution_count": null,
   "metadata": {},
   "outputs": [],
   "source": [
    "import numpy as np\n",
    "form sklearn import metrics\n",
    "y_test_pred = model.predict(x_test.reshape(-1,1))\n",
    "print('Score or R-Squared', model.score(x_test, y_test))\n",
    "print('Mean Absolute Error: ', metrics.mean_absolute_error(y_test, y_test_pred))\n",
    "print('Mean squared Error: ', metrics.mean_square_error)"
   ]
  },
  {
   "cell_type": "code",
   "execution_count": null,
   "metadata": {},
   "outputs": [],
   "source": [
    "# Lưu trữ mô hình đã huấn luyện xuống ổ đĩa\n",
    "'''\n",
    "\n",
    "'''"
   ]
  }
 ],
 "metadata": {
  "kernelspec": {
   "display_name": "Python 3",
   "language": "python",
   "name": "python3"
  },
  "language_info": {
   "codemirror_mode": {
    "name": "ipython",
    "version": 3
   },
   "file_extension": ".py",
   "mimetype": "text/x-python",
   "name": "python",
   "nbconvert_exporter": "python",
   "pygments_lexer": "ipython3",
   "version": "3.11.4"
  },
  "orig_nbformat": 4
 },
 "nbformat": 4,
 "nbformat_minor": 2
}

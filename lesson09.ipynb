{
 "cells": [
  {
   "cell_type": "markdown",
   "metadata": {},
   "source": [
    "CUỐI KỲ: PHÂN LỚP\n"
   ]
  },
  {
   "cell_type": "code",
   "execution_count": 1,
   "metadata": {},
   "outputs": [
    {
     "data": {
      "text/html": [
       "<div>\n",
       "<style scoped>\n",
       "    .dataframe tbody tr th:only-of-type {\n",
       "        vertical-align: middle;\n",
       "    }\n",
       "\n",
       "    .dataframe tbody tr th {\n",
       "        vertical-align: top;\n",
       "    }\n",
       "\n",
       "    .dataframe thead th {\n",
       "        text-align: right;\n",
       "    }\n",
       "</style>\n",
       "<table border=\"1\" class=\"dataframe\">\n",
       "  <thead>\n",
       "    <tr style=\"text-align: right;\">\n",
       "      <th></th>\n",
       "      <th>NN</th>\n",
       "      <th>LG</th>\n",
       "      <th>UX</th>\n",
       "      <th>DH</th>\n",
       "    </tr>\n",
       "  </thead>\n",
       "  <tbody>\n",
       "    <tr>\n",
       "      <th>0</th>\n",
       "      <td>3.25</td>\n",
       "      <td>3.25</td>\n",
       "      <td>4.50</td>\n",
       "      <td>No</td>\n",
       "    </tr>\n",
       "    <tr>\n",
       "      <th>1</th>\n",
       "      <td>6.00</td>\n",
       "      <td>4.00</td>\n",
       "      <td>3.50</td>\n",
       "      <td>Yes</td>\n",
       "    </tr>\n",
       "    <tr>\n",
       "      <th>2</th>\n",
       "      <td>5.00</td>\n",
       "      <td>6.75</td>\n",
       "      <td>4.00</td>\n",
       "      <td>No</td>\n",
       "    </tr>\n",
       "    <tr>\n",
       "      <th>3</th>\n",
       "      <td>4.25</td>\n",
       "      <td>4.25</td>\n",
       "      <td>5.25</td>\n",
       "      <td>No</td>\n",
       "    </tr>\n",
       "    <tr>\n",
       "      <th>4</th>\n",
       "      <td>4.25</td>\n",
       "      <td>4.50</td>\n",
       "      <td>5.00</td>\n",
       "      <td>No</td>\n",
       "    </tr>\n",
       "  </tbody>\n",
       "</table>\n",
       "</div>"
      ],
      "text/plain": [
       "     NN    LG    UX   DH\n",
       "0  3.25  3.25  4.50   No\n",
       "1  6.00  4.00  3.50  Yes\n",
       "2  5.00  6.75  4.00   No\n",
       "3  4.25  4.25  5.25   No\n",
       "4  4.25  4.50  5.00   No"
      ]
     },
     "execution_count": 1,
     "metadata": {},
     "output_type": "execute_result"
    }
   ],
   "source": [
    "# Dựa trên các điểm thi đánh giá năng lực, hãy phán đoán xem sinh viên có định hướng nghề nghiệp hay chưa \n",
    "# được định hướng nghề nghiệp\n",
    "# Input -> Model -> Output\n",
    "import numpy as np\n",
    "import pandas as pd\n",
    "import seaborn as sns\n",
    "import matplotlib.pyplot as plt\n",
    "df = pd.read_csv('dulieuxettuyendaihoc.csv', header=0, delimiter=',', encoding='utf-8')\n",
    "# Đổi tên cột\n",
    "df.rename(columns={'NGONNGU': 'NN', 'TOANLOGICPHANTICH': 'LG', 'GIAIQUYETVANDE': 'UX', 'DINHHUONGNGHENGHIEP': 'DH'}, inplace=True)\n",
    "df = df[['NN', 'LG', 'UX', 'DH']]\n",
    "df.head(5)"
   ]
  },
  {
   "cell_type": "code",
   "execution_count": 2,
   "metadata": {},
   "outputs": [],
   "source": [
    "# Feature (Đặc trưng): NN, LG, UX\n",
    "# Target (Mục tiêu): DH\n",
    "# Vì feature là số mà target là chuỗi nên ta cần chuyển target về số\n",
    "# from sklearn.preprocessing import LabelEncoder\n",
    "# labelencoder = LabelEncoder()\n",
    "# df['DH'] = labelencoder.fit_transform(df['DH'])\n",
    "# dinhhuong = pd.get_dummies(df['DH'], drop_first=True)\n",
    "# df.drop('DH', axis=1, inplace=True)\n",
    "# df = pd.concat([df, dinhhuong], axis=1)\n",
    "# df['Yes'] = df['Yes'].astype(int)"
   ]
  },
  {
   "cell_type": "code",
   "execution_count": 3,
   "metadata": {},
   "outputs": [
    {
     "data": {
      "text/html": [
       "<div>\n",
       "<style scoped>\n",
       "    .dataframe tbody tr th:only-of-type {\n",
       "        vertical-align: middle;\n",
       "    }\n",
       "\n",
       "    .dataframe tbody tr th {\n",
       "        vertical-align: top;\n",
       "    }\n",
       "\n",
       "    .dataframe thead th {\n",
       "        text-align: right;\n",
       "    }\n",
       "</style>\n",
       "<table border=\"1\" class=\"dataframe\">\n",
       "  <thead>\n",
       "    <tr style=\"text-align: right;\">\n",
       "      <th></th>\n",
       "      <th>Yes</th>\n",
       "    </tr>\n",
       "  </thead>\n",
       "  <tbody>\n",
       "    <tr>\n",
       "      <th>0</th>\n",
       "      <td>False</td>\n",
       "    </tr>\n",
       "    <tr>\n",
       "      <th>1</th>\n",
       "      <td>True</td>\n",
       "    </tr>\n",
       "    <tr>\n",
       "      <th>2</th>\n",
       "      <td>False</td>\n",
       "    </tr>\n",
       "    <tr>\n",
       "      <th>3</th>\n",
       "      <td>False</td>\n",
       "    </tr>\n",
       "    <tr>\n",
       "      <th>4</th>\n",
       "      <td>False</td>\n",
       "    </tr>\n",
       "    <tr>\n",
       "      <th>...</th>\n",
       "      <td>...</td>\n",
       "    </tr>\n",
       "    <tr>\n",
       "      <th>95</th>\n",
       "      <td>True</td>\n",
       "    </tr>\n",
       "    <tr>\n",
       "      <th>96</th>\n",
       "      <td>False</td>\n",
       "    </tr>\n",
       "    <tr>\n",
       "      <th>97</th>\n",
       "      <td>True</td>\n",
       "    </tr>\n",
       "    <tr>\n",
       "      <th>98</th>\n",
       "      <td>False</td>\n",
       "    </tr>\n",
       "    <tr>\n",
       "      <th>99</th>\n",
       "      <td>True</td>\n",
       "    </tr>\n",
       "  </tbody>\n",
       "</table>\n",
       "<p>100 rows × 1 columns</p>\n",
       "</div>"
      ],
      "text/plain": [
       "      Yes\n",
       "0   False\n",
       "1    True\n",
       "2   False\n",
       "3   False\n",
       "4   False\n",
       "..    ...\n",
       "95   True\n",
       "96  False\n",
       "97   True\n",
       "98  False\n",
       "99   True\n",
       "\n",
       "[100 rows x 1 columns]"
      ]
     },
     "execution_count": 3,
     "metadata": {},
     "output_type": "execute_result"
    }
   ],
   "source": [
    "dinhhuong = pd.get_dummies(df['DH'])\n",
    "dinhhuong.drop('No', axis=1, inplace=True)\n",
    "dinhhuong"
   ]
  },
  {
   "cell_type": "code",
   "execution_count": 4,
   "metadata": {},
   "outputs": [
    {
     "data": {
      "text/html": [
       "<div>\n",
       "<style scoped>\n",
       "    .dataframe tbody tr th:only-of-type {\n",
       "        vertical-align: middle;\n",
       "    }\n",
       "\n",
       "    .dataframe tbody tr th {\n",
       "        vertical-align: top;\n",
       "    }\n",
       "\n",
       "    .dataframe thead th {\n",
       "        text-align: right;\n",
       "    }\n",
       "</style>\n",
       "<table border=\"1\" class=\"dataframe\">\n",
       "  <thead>\n",
       "    <tr style=\"text-align: right;\">\n",
       "      <th></th>\n",
       "      <th>NN</th>\n",
       "      <th>LG</th>\n",
       "      <th>UX</th>\n",
       "      <th>Yes</th>\n",
       "    </tr>\n",
       "  </thead>\n",
       "  <tbody>\n",
       "    <tr>\n",
       "      <th>0</th>\n",
       "      <td>3.25</td>\n",
       "      <td>3.25</td>\n",
       "      <td>4.50</td>\n",
       "      <td>0</td>\n",
       "    </tr>\n",
       "    <tr>\n",
       "      <th>1</th>\n",
       "      <td>6.00</td>\n",
       "      <td>4.00</td>\n",
       "      <td>3.50</td>\n",
       "      <td>1</td>\n",
       "    </tr>\n",
       "    <tr>\n",
       "      <th>2</th>\n",
       "      <td>5.00</td>\n",
       "      <td>6.75</td>\n",
       "      <td>4.00</td>\n",
       "      <td>0</td>\n",
       "    </tr>\n",
       "    <tr>\n",
       "      <th>3</th>\n",
       "      <td>4.25</td>\n",
       "      <td>4.25</td>\n",
       "      <td>5.25</td>\n",
       "      <td>0</td>\n",
       "    </tr>\n",
       "    <tr>\n",
       "      <th>4</th>\n",
       "      <td>4.25</td>\n",
       "      <td>4.50</td>\n",
       "      <td>5.00</td>\n",
       "      <td>0</td>\n",
       "    </tr>\n",
       "  </tbody>\n",
       "</table>\n",
       "</div>"
      ],
      "text/plain": [
       "     NN    LG    UX  Yes\n",
       "0  3.25  3.25  4.50    0\n",
       "1  6.00  4.00  3.50    1\n",
       "2  5.00  6.75  4.00    0\n",
       "3  4.25  4.25  5.25    0\n",
       "4  4.25  4.50  5.00    0"
      ]
     },
     "execution_count": 4,
     "metadata": {},
     "output_type": "execute_result"
    }
   ],
   "source": [
    "df.drop('DH', axis=1, inplace=True)\n",
    "df = pd.concat([df, dinhhuong], axis=1)\n",
    "df['Yes'] = df['Yes'].astype(int)\n",
    "df.head(5)"
   ]
  },
  {
   "cell_type": "code",
   "execution_count": 5,
   "metadata": {},
   "outputs": [],
   "source": [
    "X = df[['NN', 'LG', 'UX']].values # Input: Đặc trưng\n",
    "y = df['Yes'].values # Output: Mục tiêu (target)"
   ]
  },
  {
   "cell_type": "code",
   "execution_count": 6,
   "metadata": {},
   "outputs": [],
   "source": [
    "from sklearn.model_selection import train_test_split\n",
    "X_train, X_test, y_train, y_test = train_test_split(X, y, test_size=0.2, random_state=16)\n"
   ]
  },
  {
   "cell_type": "code",
   "execution_count": 7,
   "metadata": {},
   "outputs": [
    {
     "data": {
      "text/html": [
       "<style>#sk-container-id-1 {color: black;}#sk-container-id-1 pre{padding: 0;}#sk-container-id-1 div.sk-toggleable {background-color: white;}#sk-container-id-1 label.sk-toggleable__label {cursor: pointer;display: block;width: 100%;margin-bottom: 0;padding: 0.3em;box-sizing: border-box;text-align: center;}#sk-container-id-1 label.sk-toggleable__label-arrow:before {content: \"▸\";float: left;margin-right: 0.25em;color: #696969;}#sk-container-id-1 label.sk-toggleable__label-arrow:hover:before {color: black;}#sk-container-id-1 div.sk-estimator:hover label.sk-toggleable__label-arrow:before {color: black;}#sk-container-id-1 div.sk-toggleable__content {max-height: 0;max-width: 0;overflow: hidden;text-align: left;background-color: #f0f8ff;}#sk-container-id-1 div.sk-toggleable__content pre {margin: 0.2em;color: black;border-radius: 0.25em;background-color: #f0f8ff;}#sk-container-id-1 input.sk-toggleable__control:checked~div.sk-toggleable__content {max-height: 200px;max-width: 100%;overflow: auto;}#sk-container-id-1 input.sk-toggleable__control:checked~label.sk-toggleable__label-arrow:before {content: \"▾\";}#sk-container-id-1 div.sk-estimator input.sk-toggleable__control:checked~label.sk-toggleable__label {background-color: #d4ebff;}#sk-container-id-1 div.sk-label input.sk-toggleable__control:checked~label.sk-toggleable__label {background-color: #d4ebff;}#sk-container-id-1 input.sk-hidden--visually {border: 0;clip: rect(1px 1px 1px 1px);clip: rect(1px, 1px, 1px, 1px);height: 1px;margin: -1px;overflow: hidden;padding: 0;position: absolute;width: 1px;}#sk-container-id-1 div.sk-estimator {font-family: monospace;background-color: #f0f8ff;border: 1px dotted black;border-radius: 0.25em;box-sizing: border-box;margin-bottom: 0.5em;}#sk-container-id-1 div.sk-estimator:hover {background-color: #d4ebff;}#sk-container-id-1 div.sk-parallel-item::after {content: \"\";width: 100%;border-bottom: 1px solid gray;flex-grow: 1;}#sk-container-id-1 div.sk-label:hover label.sk-toggleable__label {background-color: #d4ebff;}#sk-container-id-1 div.sk-serial::before {content: \"\";position: absolute;border-left: 1px solid gray;box-sizing: border-box;top: 0;bottom: 0;left: 50%;z-index: 0;}#sk-container-id-1 div.sk-serial {display: flex;flex-direction: column;align-items: center;background-color: white;padding-right: 0.2em;padding-left: 0.2em;position: relative;}#sk-container-id-1 div.sk-item {position: relative;z-index: 1;}#sk-container-id-1 div.sk-parallel {display: flex;align-items: stretch;justify-content: center;background-color: white;position: relative;}#sk-container-id-1 div.sk-item::before, #sk-container-id-1 div.sk-parallel-item::before {content: \"\";position: absolute;border-left: 1px solid gray;box-sizing: border-box;top: 0;bottom: 0;left: 50%;z-index: -1;}#sk-container-id-1 div.sk-parallel-item {display: flex;flex-direction: column;z-index: 1;position: relative;background-color: white;}#sk-container-id-1 div.sk-parallel-item:first-child::after {align-self: flex-end;width: 50%;}#sk-container-id-1 div.sk-parallel-item:last-child::after {align-self: flex-start;width: 50%;}#sk-container-id-1 div.sk-parallel-item:only-child::after {width: 0;}#sk-container-id-1 div.sk-dashed-wrapped {border: 1px dashed gray;margin: 0 0.4em 0.5em 0.4em;box-sizing: border-box;padding-bottom: 0.4em;background-color: white;}#sk-container-id-1 div.sk-label label {font-family: monospace;font-weight: bold;display: inline-block;line-height: 1.2em;}#sk-container-id-1 div.sk-label-container {text-align: center;}#sk-container-id-1 div.sk-container {/* jupyter's `normalize.less` sets `[hidden] { display: none; }` but bootstrap.min.css set `[hidden] { display: none !important; }` so we also need the `!important` here to be able to override the default hidden behavior on the sphinx rendered scikit-learn.org. See: https://github.com/scikit-learn/scikit-learn/issues/21755 */display: inline-block !important;position: relative;}#sk-container-id-1 div.sk-text-repr-fallback {display: none;}</style><div id=\"sk-container-id-1\" class=\"sk-top-container\"><div class=\"sk-text-repr-fallback\"><pre>LogisticRegression()</pre><b>In a Jupyter environment, please rerun this cell to show the HTML representation or trust the notebook. <br />On GitHub, the HTML representation is unable to render, please try loading this page with nbviewer.org.</b></div><div class=\"sk-container\" hidden><div class=\"sk-item\"><div class=\"sk-estimator sk-toggleable\"><input class=\"sk-toggleable__control sk-hidden--visually\" id=\"sk-estimator-id-1\" type=\"checkbox\" checked><label for=\"sk-estimator-id-1\" class=\"sk-toggleable__label sk-toggleable__label-arrow\">LogisticRegression</label><div class=\"sk-toggleable__content\"><pre>LogisticRegression()</pre></div></div></div></div></div>"
      ],
      "text/plain": [
       "LogisticRegression()"
      ]
     },
     "execution_count": 7,
     "metadata": {},
     "output_type": "execute_result"
    }
   ],
   "source": [
    "# Features -> Model (Logistic Regression) -> Target\n",
    "from sklearn.linear_model import LogisticRegression\n",
    "model = LogisticRegression() # Khởi tạo model, bài toán phân lớp(classification)\n",
    "model.fit(X_train, y_train.flatten()) # Training"
   ]
  },
  {
   "cell_type": "code",
   "execution_count": 8,
   "metadata": {},
   "outputs": [
    {
     "data": {
      "text/plain": [
       "array([[ 0.31978112, -0.04309514,  0.02891314]])"
      ]
     },
     "execution_count": 8,
     "metadata": {},
     "output_type": "execute_result"
    }
   ],
   "source": [
    "model.coef_ # Hệ số"
   ]
  },
  {
   "cell_type": "code",
   "execution_count": 9,
   "metadata": {},
   "outputs": [
    {
     "data": {
      "text/plain": [
       "array([-1.29714816])"
      ]
     },
     "execution_count": 9,
     "metadata": {},
     "output_type": "execute_result"
    }
   ],
   "source": [
    "model.intercept_ # Hệ số tự do"
   ]
  },
  {
   "cell_type": "code",
   "execution_count": 10,
   "metadata": {},
   "outputs": [],
   "source": [
    "# -> Mô hình: Z = -1.297 + 0.319*NN - 0.043*LG + 0.028*UX \n",
    "# -> Đưa sang hàm sigmoid: P = 1/(1 + e^(-Z)) -> Z' -> threshold = 0.5 -> Lớn hơn 0.5 -> Yes, nhỏ hơn 0.5 -> No"
   ]
  },
  {
   "cell_type": "code",
   "execution_count": 11,
   "metadata": {},
   "outputs": [
    {
     "name": "stdout",
     "output_type": "stream",
     "text": [
      "-0.1752499999999999 0.4562992895236533\n"
     ]
    }
   ],
   "source": [
    "# Với điểm ngôn ngữ là 3.75, logic là 4.5, và ứng xử là 4.25\n",
    "# thì sinh viên có định hướng nghề nghiệp hay không\n",
    "# Input: NN = 3.75, LG = 4.5, UX = 4.25\n",
    "# Output: Yes/No\n",
    "\n",
    "Z = -1.297 + 0.319*3.75 - 0.043*4.5 + 0.028*4.25\n",
    "P = 1/(1 + np.exp(-Z)) # Z'\n",
    "print(Z, P)\n",
    "# Z' = 0.456 < 0.5 -> No\n",
    "# Đáp án Yes = 0"
   ]
  },
  {
   "cell_type": "code",
   "execution_count": 12,
   "metadata": {},
   "outputs": [
    {
     "name": "stdout",
     "output_type": "stream",
     "text": [
      "0.28625000000000006 0.5710778239894033\n"
     ]
    }
   ],
   "source": [
    "# Với điểm ngôn ngữ là 4.75, logic là 2.0, và ứng xử là 5.5\n",
    "# thì sinh viên có định hướng nghề nghiệp hay không\n",
    "# Input: NN = 4.75, LG = 2.0, UX = 5.5\n",
    "# Output: Yes/No\n",
    "Z = -1.297 + 0.319*4.75 - 0.043*2.0 + 0.028*5.5\n",
    "P = 1/(1 + np.exp(-Z)) # Z'\n",
    "print(Z, P)\n",
    "# Z' = 0.571 > 0.5 -> Yes\n",
    "# Đáp án Yes = 1"
   ]
  },
  {
   "cell_type": "code",
   "execution_count": 13,
   "metadata": {},
   "outputs": [
    {
     "data": {
      "text/plain": [
       "array([[3.75, 4.5 , 4.25],\n",
       "       [4.75, 2.  , 5.5 ],\n",
       "       [3.5 , 4.75, 3.5 ],\n",
       "       [5.75, 3.5 , 4.25],\n",
       "       [4.75, 6.5 , 8.  ],\n",
       "       [2.75, 3.75, 5.  ],\n",
       "       [2.25, 3.5 , 5.  ],\n",
       "       [3.75, 4.  , 3.5 ],\n",
       "       [2.  , 5.25, 3.5 ],\n",
       "       [4.  , 4.75, 5.5 ],\n",
       "       [5.  , 4.  , 6.75],\n",
       "       [2.5 , 3.5 , 6.5 ],\n",
       "       [5.25, 4.5 , 4.75],\n",
       "       [4.25, 2.75, 3.25],\n",
       "       [5.  , 3.5 , 5.5 ],\n",
       "       [1.5 , 4.5 , 5.5 ],\n",
       "       [4.75, 4.75, 4.5 ],\n",
       "       [6.5 , 4.5 , 8.  ],\n",
       "       [2.25, 4.  , 4.25],\n",
       "       [2.5 , 2.75, 5.5 ]])"
      ]
     },
     "execution_count": 13,
     "metadata": {},
     "output_type": "execute_result"
    }
   ],
   "source": [
    "X_test"
   ]
  },
  {
   "cell_type": "code",
   "execution_count": 14,
   "metadata": {},
   "outputs": [
    {
     "data": {
      "text/plain": [
       "array([0, 1, 0, 1, 1, 0, 0, 0, 0, 0, 1, 0, 1, 1, 1, 0, 1, 1, 0, 0])"
      ]
     },
     "execution_count": 14,
     "metadata": {},
     "output_type": "execute_result"
    }
   ],
   "source": [
    "# Default threshold = 0.5\n",
    "y_pred_test = model.predict(X_test)\n",
    "y_pred_test\n",
    "# Ví dụ ở câu mảng trên có kết quả X_test là: NN = 6.5 , LG = 4.5 , UX = 8. sau khi chạy y_pred_test thì kết quả là: 1 => Yes"
   ]
  },
  {
   "cell_type": "code",
   "execution_count": 15,
   "metadata": {},
   "outputs": [
    {
     "name": "stdout",
     "output_type": "stream",
     "text": [
      "[[0.54215376 0.45784624]\n",
      " [0.42686728 0.57313272]\n",
      " [0.56989436 0.43010564]\n",
      " [0.37434035 0.62565965]\n",
      " [0.45685782 0.54314218]\n",
      " [0.60701717 0.39298283]\n",
      " [0.64196612 0.35803388]\n",
      " [0.54218784 0.45781216]\n",
      " [0.68624869 0.31375131]\n",
      " [0.51592045 0.48407955]\n",
      " [0.41956957 0.58043043]\n",
      " [0.61315482 0.38684518]\n",
      " [0.41943042 0.58056958]\n",
      " [0.49065667 0.50934333]\n",
      " [0.42312774 0.57687226]\n",
      " [0.70106665 0.29893335]\n",
      " [0.46326149 0.53673851]\n",
      " [0.30601715 0.69398285]\n",
      " [0.65184076 0.34815924]\n",
      " [0.6123461  0.3876539 ]]\n"
     ]
    }
   ],
   "source": [
    "print(model.predict_proba(X_test))\n",
    "# 0.54215376: Xác suất dự báo cho No\n",
    "# 0.45784624: Xác suất dự báo cho Yes\n",
    "# Hay nói cách khác là kết quá đi qua 1/(1 + e^(-Z)) = 0.54215376"
   ]
  },
  {
   "cell_type": "code",
   "execution_count": 16,
   "metadata": {},
   "outputs": [
    {
     "name": "stdout",
     "output_type": "stream",
     "text": [
      "prediction with threshold = 0.65\n"
     ]
    },
    {
     "data": {
      "text/plain": [
       "array([0, 0, 0, 0, 0, 0, 0, 0, 0, 0, 0, 0, 0, 0, 0, 0, 0, 1, 0, 0])"
      ]
     },
     "execution_count": 16,
     "metadata": {},
     "output_type": "execute_result"
    }
   ],
   "source": [
    "# Changing Threshold and predict\n",
    "print('prediction with threshold = 0.65')\n",
    "y_pred_test_new_threshold = (model.predict_proba(X_test)[:, 1] >= 0.65).astype(int)\n",
    "y_pred_test_new_threshold"
   ]
  },
  {
   "cell_type": "code",
   "execution_count": 17,
   "metadata": {},
   "outputs": [
    {
     "name": "stdout",
     "output_type": "stream",
     "text": [
      "prediction with threshold = 0.3\n"
     ]
    },
    {
     "data": {
      "text/plain": [
       "array([1, 1, 1, 1, 1, 1, 1, 1, 1, 1, 1, 1, 1, 1, 1, 0, 1, 1, 1, 1])"
      ]
     },
     "execution_count": 17,
     "metadata": {},
     "output_type": "execute_result"
    }
   ],
   "source": [
    "print('prediction with threshold = 0.3')\n",
    "y_pred_test_new_threshold = (model.predict_proba(X_test)[:, 1] >= 0.3).astype(int)\n",
    "y_pred_test_new_threshold"
   ]
  },
  {
   "cell_type": "code",
   "execution_count": 18,
   "metadata": {},
   "outputs": [],
   "source": [
    "# Dựa vào 2 kết quả threshold ở trên thì ngưỡng (threshold) càng cao thì predict càng chính xác\n",
    "# ngược lại ngưỡng càng thấp thì predict càng không chính xác"
   ]
  },
  {
   "cell_type": "code",
   "execution_count": 19,
   "metadata": {},
   "outputs": [
    {
     "data": {
      "text/html": [
       "<div>\n",
       "<style scoped>\n",
       "    .dataframe tbody tr th:only-of-type {\n",
       "        vertical-align: middle;\n",
       "    }\n",
       "\n",
       "    .dataframe tbody tr th {\n",
       "        vertical-align: top;\n",
       "    }\n",
       "\n",
       "    .dataframe thead th {\n",
       "        text-align: right;\n",
       "    }\n",
       "</style>\n",
       "<table border=\"1\" class=\"dataframe\">\n",
       "  <thead>\n",
       "    <tr style=\"text-align: right;\">\n",
       "      <th></th>\n",
       "      <th>Actual</th>\n",
       "      <th>Predicted</th>\n",
       "    </tr>\n",
       "  </thead>\n",
       "  <tbody>\n",
       "    <tr>\n",
       "      <th>0</th>\n",
       "      <td>1</td>\n",
       "      <td>0</td>\n",
       "    </tr>\n",
       "    <tr>\n",
       "      <th>1</th>\n",
       "      <td>0</td>\n",
       "      <td>1</td>\n",
       "    </tr>\n",
       "    <tr>\n",
       "      <th>2</th>\n",
       "      <td>1</td>\n",
       "      <td>0</td>\n",
       "    </tr>\n",
       "    <tr>\n",
       "      <th>3</th>\n",
       "      <td>1</td>\n",
       "      <td>1</td>\n",
       "    </tr>\n",
       "    <tr>\n",
       "      <th>4</th>\n",
       "      <td>0</td>\n",
       "      <td>1</td>\n",
       "    </tr>\n",
       "    <tr>\n",
       "      <th>5</th>\n",
       "      <td>0</td>\n",
       "      <td>0</td>\n",
       "    </tr>\n",
       "    <tr>\n",
       "      <th>6</th>\n",
       "      <td>0</td>\n",
       "      <td>0</td>\n",
       "    </tr>\n",
       "    <tr>\n",
       "      <th>7</th>\n",
       "      <td>1</td>\n",
       "      <td>0</td>\n",
       "    </tr>\n",
       "    <tr>\n",
       "      <th>8</th>\n",
       "      <td>0</td>\n",
       "      <td>0</td>\n",
       "    </tr>\n",
       "    <tr>\n",
       "      <th>9</th>\n",
       "      <td>1</td>\n",
       "      <td>0</td>\n",
       "    </tr>\n",
       "    <tr>\n",
       "      <th>10</th>\n",
       "      <td>0</td>\n",
       "      <td>1</td>\n",
       "    </tr>\n",
       "    <tr>\n",
       "      <th>11</th>\n",
       "      <td>1</td>\n",
       "      <td>0</td>\n",
       "    </tr>\n",
       "    <tr>\n",
       "      <th>12</th>\n",
       "      <td>0</td>\n",
       "      <td>1</td>\n",
       "    </tr>\n",
       "    <tr>\n",
       "      <th>13</th>\n",
       "      <td>0</td>\n",
       "      <td>1</td>\n",
       "    </tr>\n",
       "    <tr>\n",
       "      <th>14</th>\n",
       "      <td>0</td>\n",
       "      <td>1</td>\n",
       "    </tr>\n",
       "    <tr>\n",
       "      <th>15</th>\n",
       "      <td>0</td>\n",
       "      <td>0</td>\n",
       "    </tr>\n",
       "    <tr>\n",
       "      <th>16</th>\n",
       "      <td>0</td>\n",
       "      <td>1</td>\n",
       "    </tr>\n",
       "    <tr>\n",
       "      <th>17</th>\n",
       "      <td>1</td>\n",
       "      <td>1</td>\n",
       "    </tr>\n",
       "    <tr>\n",
       "      <th>18</th>\n",
       "      <td>1</td>\n",
       "      <td>0</td>\n",
       "    </tr>\n",
       "    <tr>\n",
       "      <th>19</th>\n",
       "      <td>0</td>\n",
       "      <td>0</td>\n",
       "    </tr>\n",
       "  </tbody>\n",
       "</table>\n",
       "</div>"
      ],
      "text/plain": [
       "    Actual  Predicted\n",
       "0        1          0\n",
       "1        0          1\n",
       "2        1          0\n",
       "3        1          1\n",
       "4        0          1\n",
       "5        0          0\n",
       "6        0          0\n",
       "7        1          0\n",
       "8        0          0\n",
       "9        1          0\n",
       "10       0          1\n",
       "11       1          0\n",
       "12       0          1\n",
       "13       0          1\n",
       "14       0          1\n",
       "15       0          0\n",
       "16       0          1\n",
       "17       1          1\n",
       "18       1          0\n",
       "19       0          0"
      ]
     },
     "execution_count": 19,
     "metadata": {},
     "output_type": "execute_result"
    }
   ],
   "source": [
    "# Default threshold = 0.5\n",
    "result = pd.DataFrame({'Actual': y_test.flatten(), 'Predicted': y_pred_test})\n",
    "result # -> dựa vào thực tế (Actual) và dự đoán (Predict) thì nó đoán đúng được 7 dòng -> độ chính xác của mô hình là 7/20 = 35% (Accuracy)"
   ]
  },
  {
   "cell_type": "code",
   "execution_count": 20,
   "metadata": {},
   "outputs": [
    {
     "data": {
      "text/plain": [
       "0.35"
      ]
     },
     "execution_count": 20,
     "metadata": {},
     "output_type": "execute_result"
    }
   ],
   "source": [
    "from sklearn.metrics import accuracy_score\n",
    "accuracy_score(y_test, y_pred_test)"
   ]
  },
  {
   "cell_type": "code",
   "execution_count": 21,
   "metadata": {},
   "outputs": [],
   "source": [
    "# Dựa vào bảng kết quả result ta có các độ đo khác như: \n",
    "# TP (Actual = 1, Predict = 1) = 2\n",
    "# FP (Actual = 0, Predict = 1) = 7\n",
    "# FN (Actual = 1, Predict = 0) = 6\n",
    "# TN (Actual = 0, Predict = 0) = 5\n",
    "# Các kết quả dự đoán đúng là TP và TN => Accuracy = (TP + TN) / (TP + FP + FN + TN)"
   ]
  },
  {
   "cell_type": "code",
   "execution_count": 22,
   "metadata": {},
   "outputs": [
    {
     "data": {
      "text/plain": [
       "array([[5, 7],\n",
       "       [6, 2]], dtype=int64)"
      ]
     },
     "execution_count": 22,
     "metadata": {},
     "output_type": "execute_result"
    }
   ],
   "source": [
    "# Trong python nó hỗ trợ 1 hàm gọi là confusion_matrix là ma trận gồm 4 ô nó thể hiển các giá trị lần lược là TN, FP, FN, TP\n",
    "from sklearn.metrics import confusion_matrix\n",
    "cf_matrix = confusion_matrix(y_test, y_pred_test)\n",
    "cf_matrix\n",
    "# Giá trị\n",
    "# TP (Actual = 1, Predict = 1) = 2\n",
    "# FP (Actual = 0, Predict = 1) = 7\n",
    "# FN (Actual = 1, Predict = 0) = 6\n",
    "# TN (Actual = 0, Predict = 0) = 5"
   ]
  },
  {
   "cell_type": "code",
   "execution_count": 23,
   "metadata": {},
   "outputs": [
    {
     "data": {
      "image/png": "[encoded data removed]",
      "text/plain": [
       "<Figure size 640x480 with 2 Axes>"
      ]
     },
     "metadata": {},
     "output_type": "display_data"
    }
   ],
   "source": [
    "sns.heatmap(pd.DataFrame(cf_matrix), annot=True, cmap='YlGnBu', fmt='g')\n",
    "plt.title(\"Confusion matrix\", y = 1.1)\n",
    "plt.xlabel(\"Actual label\")\n",
    "plt.xlabel(\"Predicted label\")\n",
    "plt.show()"
   ]
  },
  {
   "cell_type": "code",
   "execution_count": 24,
   "metadata": {},
   "outputs": [],
   "source": [
    "# Các độ đo đánh gái mô hình phân lớp\n",
    "# N là số lượng mẫu: TP+FP+FN+TN\n",
    "# TP, FP, FN, TN\n",
    "# accuracy = (TP + TN) / (TP + FP + FN + TN)\n",
    "# Precision = TP/(TP+FP)\n",
    "# Recall = TP / (TP+FN)\n",
    "# F1-Score = 2 * Precision * Recall / (Precision + Recall)"
   ]
  },
  {
   "cell_type": "code",
   "execution_count": 25,
   "metadata": {},
   "outputs": [
    {
     "name": "stdout",
     "output_type": "stream",
     "text": [
      "              precision    recall  f1-score   support\n",
      "\n",
      "Not oriented       0.45      0.42      0.43        12\n",
      "    Oriented       0.22      0.25      0.24         8\n",
      "\n",
      "    accuracy                           0.35        20\n",
      "   macro avg       0.34      0.33      0.34        20\n",
      "weighted avg       0.36      0.35      0.35        20\n",
      "\n"
     ]
    }
   ],
   "source": [
    "from sklearn.metrics import classification_report\n",
    "target_name = ['Not oriented', 'Oriented']\n",
    "print(classification_report(y_test, y_pred_test, target_names=target_name))"
   ]
  },
  {
   "cell_type": "code",
   "execution_count": 26,
   "metadata": {},
   "outputs": [],
   "source": [
    "# Đồ thị đánh giá AUC và ROC\n",
    "# Viền màu xanh nằm dưới đường màu đỏ là mô hình k tốt\n",
    "# Viền màu xanh phủ hết thì tốt"
   ]
  },
  {
   "cell_type": "code",
   "execution_count": 27,
   "metadata": {},
   "outputs": [],
   "source": [
    "# Lưu trữ mô hình phân loại xuống thiết bị\n",
    "# model_logistic_regression.sav\n",
    "import pickle\n",
    "pickle.dump(model, open(\"model_logistic_regression.sav\", 'wb'))"
   ]
  },
  {
   "cell_type": "code",
   "execution_count": 28,
   "metadata": {},
   "outputs": [
    {
     "name": "stdout",
     "output_type": "stream",
     "text": [
      "Dự báo định hướng: 1\n"
     ]
    }
   ],
   "source": [
    "# Tự viết chương trình cho phép nhập từ bàn phím 3 điểm NN, LG, UX sau đó dự đoán định hướng nghề nghiệp\n",
    "import pickle\n",
    "# Load model từ storage\n",
    "loaded_model = pickle.load(open(\"model_logistic_regression.sav\", 'rb'))\n",
    "vNN = float(input('Điểm ngôn ngữ: '))\n",
    "vLG = float(input('Điểm logic: '))\n",
    "vUX = float(input('Điểm ứng xử: '))\n",
    "y_pred = loaded_model.predict([[vNN, vLG, vUX]])\n",
    "print('Dự báo định hướng: ' + str(y_pred[0]))"
   ]
  }
 ],
 "metadata": {
  "kernelspec": {
   "display_name": "Python 3",
   "language": "python",
   "name": "python3"
  },
  "language_info": {
   "codemirror_mode": {
    "name": "ipython",
    "version": 3
   },
   "file_extension": ".py",
   "mimetype": "text/x-python",
   "name": "python",
   "nbconvert_exporter": "python",
   "pygments_lexer": "ipython3",
   "version": "3.11.4"
  }
 },
 "nbformat": 4,
 "nbformat_minor": 2
}

{
 "cells": [
  {
   "cell_type": "code",
   "execution_count": 111,
   "metadata": {},
   "outputs": [
    {
     "data": {
      "text/plain": [
       "'\\n- Đại lượng đo lường tập trung\\n    1. Min, max\\n    2. Mean (Ảnh hưởng bởi các giá trị bất thường)\\n    3. Median (Không bị ảnh hưởng bởi giá trị bất thường)\\n    4. Mode: Yếu vị là giá trị có số lần xuất hiện nhiều nhất trong không gian mẫu\\n    5. Phân vị P -> Thường dùng tứ phân vị và thập phân vị\\n'"
      ]
     },
     "execution_count": 111,
     "metadata": {},
     "output_type": "execute_result"
    }
   ],
   "source": [
    "# Phân tích mô tả\n",
    "'''\n",
    "- Đại lượng đo lường tập trung\n",
    "    1. Min, max\n",
    "    2. Mean (Ảnh hưởng bởi các giá trị bất thường)\n",
    "    3. Median (Không bị ảnh hưởng bởi giá trị bất thường)\n",
    "    4. Mode: Yếu vị là giá trị có số lần xuất hiện nhiều nhất trong không gian mẫu\n",
    "    5. Phân vị P -> Thường dùng tứ phân vị và thập phân vị\n",
    "'''"
   ]
  },
  {
   "cell_type": "code",
   "execution_count": 112,
   "metadata": {},
   "outputs": [
    {
     "data": {
      "text/html": [
       "<div>\n",
       "<style scoped>\n",
       "    .dataframe tbody tr th:only-of-type {\n",
       "        vertical-align: middle;\n",
       "    }\n",
       "\n",
       "    .dataframe tbody tr th {\n",
       "        vertical-align: top;\n",
       "    }\n",
       "\n",
       "    .dataframe thead th {\n",
       "        text-align: right;\n",
       "    }\n",
       "</style>\n",
       "<table border=\"1\" class=\"dataframe\">\n",
       "  <thead>\n",
       "    <tr style=\"text-align: right;\">\n",
       "      <th></th>\n",
       "      <th>MSSV</th>\n",
       "      <th>T1</th>\n",
       "      <th>T2</th>\n",
       "      <th>T3</th>\n",
       "      <th>T4</th>\n",
       "      <th>T5</th>\n",
       "      <th>T6</th>\n",
       "      <th>GT</th>\n",
       "      <th>DT</th>\n",
       "      <th>KV</th>\n",
       "      <th>NGONNGU</th>\n",
       "      <th>LOGIC</th>\n",
       "      <th>UNGXU</th>\n",
       "      <th>KT</th>\n",
       "      <th>NGAYTHI</th>\n",
       "      <th>DINHHUONGNGHENGHIEP</th>\n",
       "    </tr>\n",
       "  </thead>\n",
       "  <tbody>\n",
       "    <tr>\n",
       "      <th>0</th>\n",
       "      <td>SV001</td>\n",
       "      <td>7.2</td>\n",
       "      <td>8.4</td>\n",
       "      <td>7.4</td>\n",
       "      <td>7.2</td>\n",
       "      <td>7.4</td>\n",
       "      <td>6.9</td>\n",
       "      <td>F</td>\n",
       "      <td>NaN</td>\n",
       "      <td>2NT</td>\n",
       "      <td>3.25</td>\n",
       "      <td>3.25</td>\n",
       "      <td>4.50</td>\n",
       "      <td>A1</td>\n",
       "      <td>12/7/2018</td>\n",
       "      <td>No</td>\n",
       "    </tr>\n",
       "    <tr>\n",
       "      <th>1</th>\n",
       "      <td>SV002</td>\n",
       "      <td>5.4</td>\n",
       "      <td>6.3</td>\n",
       "      <td>4.3</td>\n",
       "      <td>4.9</td>\n",
       "      <td>3.0</td>\n",
       "      <td>4.0</td>\n",
       "      <td>M</td>\n",
       "      <td>NaN</td>\n",
       "      <td>1</td>\n",
       "      <td>6.00</td>\n",
       "      <td>4.00</td>\n",
       "      <td>3.50</td>\n",
       "      <td>C</td>\n",
       "      <td>12/7/2018</td>\n",
       "      <td>Yes</td>\n",
       "    </tr>\n",
       "    <tr>\n",
       "      <th>2</th>\n",
       "      <td>SV003</td>\n",
       "      <td>5.6</td>\n",
       "      <td>5.0</td>\n",
       "      <td>2.8</td>\n",
       "      <td>6.1</td>\n",
       "      <td>4.8</td>\n",
       "      <td>5.7</td>\n",
       "      <td>M</td>\n",
       "      <td>NaN</td>\n",
       "      <td>1</td>\n",
       "      <td>5.00</td>\n",
       "      <td>6.75</td>\n",
       "      <td>4.00</td>\n",
       "      <td>C</td>\n",
       "      <td>12/7/2018</td>\n",
       "      <td>No</td>\n",
       "    </tr>\n",
       "    <tr>\n",
       "      <th>3</th>\n",
       "      <td>SV004</td>\n",
       "      <td>6.6</td>\n",
       "      <td>5.1</td>\n",
       "      <td>5.9</td>\n",
       "      <td>4.1</td>\n",
       "      <td>6.1</td>\n",
       "      <td>7.4</td>\n",
       "      <td>M</td>\n",
       "      <td>NaN</td>\n",
       "      <td>1</td>\n",
       "      <td>4.25</td>\n",
       "      <td>4.25</td>\n",
       "      <td>5.25</td>\n",
       "      <td>D1</td>\n",
       "      <td>12/7/2018</td>\n",
       "      <td>No</td>\n",
       "    </tr>\n",
       "    <tr>\n",
       "      <th>4</th>\n",
       "      <td>SV005</td>\n",
       "      <td>6.0</td>\n",
       "      <td>5.4</td>\n",
       "      <td>7.6</td>\n",
       "      <td>4.4</td>\n",
       "      <td>6.8</td>\n",
       "      <td>8.0</td>\n",
       "      <td>M</td>\n",
       "      <td>NaN</td>\n",
       "      <td>2NT</td>\n",
       "      <td>4.25</td>\n",
       "      <td>4.50</td>\n",
       "      <td>5.00</td>\n",
       "      <td>A</td>\n",
       "      <td>12/7/2018</td>\n",
       "      <td>No</td>\n",
       "    </tr>\n",
       "    <tr>\n",
       "      <th>...</th>\n",
       "      <td>...</td>\n",
       "      <td>...</td>\n",
       "      <td>...</td>\n",
       "      <td>...</td>\n",
       "      <td>...</td>\n",
       "      <td>...</td>\n",
       "      <td>...</td>\n",
       "      <td>...</td>\n",
       "      <td>...</td>\n",
       "      <td>...</td>\n",
       "      <td>...</td>\n",
       "      <td>...</td>\n",
       "      <td>...</td>\n",
       "      <td>...</td>\n",
       "      <td>...</td>\n",
       "      <td>...</td>\n",
       "    </tr>\n",
       "    <tr>\n",
       "      <th>95</th>\n",
       "      <td>SV0096</td>\n",
       "      <td>8.6</td>\n",
       "      <td>8.9</td>\n",
       "      <td>7.7</td>\n",
       "      <td>6.7</td>\n",
       "      <td>7.9</td>\n",
       "      <td>6.6</td>\n",
       "      <td>F</td>\n",
       "      <td>NaN</td>\n",
       "      <td>1</td>\n",
       "      <td>5.25</td>\n",
       "      <td>1.50</td>\n",
       "      <td>6.25</td>\n",
       "      <td>C</td>\n",
       "      <td>7/20/2022</td>\n",
       "      <td>Yes</td>\n",
       "    </tr>\n",
       "    <tr>\n",
       "      <th>96</th>\n",
       "      <td>SV0097</td>\n",
       "      <td>3.7</td>\n",
       "      <td>4.1</td>\n",
       "      <td>3.1</td>\n",
       "      <td>3.4</td>\n",
       "      <td>5.5</td>\n",
       "      <td>5.7</td>\n",
       "      <td>F</td>\n",
       "      <td>NaN</td>\n",
       "      <td>1</td>\n",
       "      <td>5.25</td>\n",
       "      <td>3.75</td>\n",
       "      <td>4.75</td>\n",
       "      <td>C</td>\n",
       "      <td>7/20/2022</td>\n",
       "      <td>No</td>\n",
       "    </tr>\n",
       "    <tr>\n",
       "      <th>97</th>\n",
       "      <td>SV0098</td>\n",
       "      <td>8.8</td>\n",
       "      <td>9.5</td>\n",
       "      <td>9.5</td>\n",
       "      <td>8.5</td>\n",
       "      <td>9.0</td>\n",
       "      <td>8.5</td>\n",
       "      <td>M</td>\n",
       "      <td>NaN</td>\n",
       "      <td>2NT</td>\n",
       "      <td>7.00</td>\n",
       "      <td>8.00</td>\n",
       "      <td>4.00</td>\n",
       "      <td>C</td>\n",
       "      <td>7/20/2022</td>\n",
       "      <td>Yes</td>\n",
       "    </tr>\n",
       "    <tr>\n",
       "      <th>98</th>\n",
       "      <td>SV0099</td>\n",
       "      <td>2.7</td>\n",
       "      <td>2.8</td>\n",
       "      <td>6.2</td>\n",
       "      <td>5.2</td>\n",
       "      <td>4.1</td>\n",
       "      <td>4.3</td>\n",
       "      <td>M</td>\n",
       "      <td>NaN</td>\n",
       "      <td>1</td>\n",
       "      <td>5.00</td>\n",
       "      <td>3.50</td>\n",
       "      <td>5.50</td>\n",
       "      <td>C</td>\n",
       "      <td>7/20/2022</td>\n",
       "      <td>No</td>\n",
       "    </tr>\n",
       "    <tr>\n",
       "      <th>99</th>\n",
       "      <td>SV00100</td>\n",
       "      <td>4.1</td>\n",
       "      <td>4.4</td>\n",
       "      <td>6.0</td>\n",
       "      <td>4.3</td>\n",
       "      <td>5.6</td>\n",
       "      <td>5.1</td>\n",
       "      <td>M</td>\n",
       "      <td>NaN</td>\n",
       "      <td>2NT</td>\n",
       "      <td>5.25</td>\n",
       "      <td>2.50</td>\n",
       "      <td>4.25</td>\n",
       "      <td>C</td>\n",
       "      <td>7/20/2022</td>\n",
       "      <td>Yes</td>\n",
       "    </tr>\n",
       "  </tbody>\n",
       "</table>\n",
       "<p>100 rows × 16 columns</p>\n",
       "</div>"
      ],
      "text/plain": [
       "       MSSV   T1   T2   T3   T4   T5   T6 GT  DT   KV  NGONNGU  LOGIC  UNGXU  \\\n",
       "0     SV001  7.2  8.4  7.4  7.2  7.4  6.9  F NaN  2NT     3.25   3.25   4.50   \n",
       "1     SV002  5.4  6.3  4.3  4.9  3.0  4.0  M NaN    1     6.00   4.00   3.50   \n",
       "2     SV003  5.6  5.0  2.8  6.1  4.8  5.7  M NaN    1     5.00   6.75   4.00   \n",
       "3     SV004  6.6  5.1  5.9  4.1  6.1  7.4  M NaN    1     4.25   4.25   5.25   \n",
       "4     SV005  6.0  5.4  7.6  4.4  6.8  8.0  M NaN  2NT     4.25   4.50   5.00   \n",
       "..      ...  ...  ...  ...  ...  ...  ... ..  ..  ...      ...    ...    ...   \n",
       "95   SV0096  8.6  8.9  7.7  6.7  7.9  6.6  F NaN    1     5.25   1.50   6.25   \n",
       "96   SV0097  3.7  4.1  3.1  3.4  5.5  5.7  F NaN    1     5.25   3.75   4.75   \n",
       "97   SV0098  8.8  9.5  9.5  8.5  9.0  8.5  M NaN  2NT     7.00   8.00   4.00   \n",
       "98   SV0099  2.7  2.8  6.2  5.2  4.1  4.3  M NaN    1     5.00   3.50   5.50   \n",
       "99  SV00100  4.1  4.4  6.0  4.3  5.6  5.1  M NaN  2NT     5.25   2.50   4.25   \n",
       "\n",
       "    KT    NGAYTHI DINHHUONGNGHENGHIEP  \n",
       "0   A1  12/7/2018                  No  \n",
       "1    C  12/7/2018                 Yes  \n",
       "2    C  12/7/2018                  No  \n",
       "3   D1  12/7/2018                  No  \n",
       "4    A  12/7/2018                  No  \n",
       "..  ..        ...                 ...  \n",
       "95   C  7/20/2022                 Yes  \n",
       "96   C  7/20/2022                  No  \n",
       "97   C  7/20/2022                 Yes  \n",
       "98   C  7/20/2022                  No  \n",
       "99   C  7/20/2022                 Yes  \n",
       "\n",
       "[100 rows x 16 columns]"
      ]
     },
     "execution_count": 112,
     "metadata": {},
     "output_type": "execute_result"
    }
   ],
   "source": [
    "import pandas as pd\n",
    "import seaborn as sns\n",
    "df = pd.read_csv('dulieuxettuyendaihoc.csv', header=0, delimiter=',', encoding='utf-8')\n",
    "# Đổi tên cột\n",
    "df.rename(columns={'TOANLOGICPHANTICH': 'LOGIC', 'GIAIQUYETVANDE': 'UNGXU', 'DINH HUONG NGHE NGHIEP': 'HUONGNGHIEP'}, inplace=True)\n",
    "df"
   ]
  },
  {
   "cell_type": "code",
   "execution_count": 113,
   "metadata": {},
   "outputs": [
    {
     "name": "stdout",
     "output_type": "stream",
     "text": [
      "1.0 \n",
      " 7.0 \n",
      "\n",
      "3.74 \n",
      " 3.625 \n",
      "\n",
      "0    2.0\n",
      "Name: NGONNGU, dtype: float64 \n",
      "\n",
      "2.5 \n",
      "\n"
     ]
    }
   ],
   "source": [
    "print(f\"{df['NGONNGU'].min()} \\n {df['NGONNGU'].max()} \\n\")\n",
    "print(f\"{df['NGONNGU'].mean()} \\n {df['NGONNGU'].median()} \\n\")\n",
    "print(f\"{df['NGONNGU'].mode()} \\n\")\n",
    "print(f\"{df['NGONNGU'].quantile(0.25)} \\n\")\n"
   ]
  },
  {
   "cell_type": "code",
   "execution_count": 114,
   "metadata": {},
   "outputs": [
    {
     "data": {
      "text/plain": [
       "'\\n    - Biến động cao -> :\\n        + Sự ổn định thấp\\n        + Khó đưa ra quyết định\\n    - Các đại lượng đo lường biến động\\n        1. Range = max - min\\n        2. IQR = Q3 - Q1\\n        3. Độ lệch trung bình: (D gạch đầu) = Tổng xích ma |Xi - X_trung bình| / N\\n        4. Phương sai = bình phương độ lệch chuẩn\\n        5. Độ lệch chuẩn\\n'"
      ]
     },
     "execution_count": 114,
     "metadata": {},
     "output_type": "execute_result"
    }
   ],
   "source": [
    "# Đo lượng mức độ phân tán\n",
    "'''\n",
    "    - Biến động cao -> :\n",
    "        + Sự ổn định thấp\n",
    "        + Khó đưa ra quyết định\n",
    "    - Các đại lượng đo lường biến động\n",
    "        1. Range = max - min\n",
    "        2. IQR = Q3 - Q1\n",
    "        3. Độ lệch trung bình: (D gạch đầu) = Tổng xích ma |Xi - X_trung bình| / N\n",
    "        4. Phương sai = bình phương độ lệch chuẩn\n",
    "        5. Độ lệch chuẩn\n",
    "'''"
   ]
  },
  {
   "cell_type": "code",
   "execution_count": 115,
   "metadata": {},
   "outputs": [
    {
     "data": {
      "text/plain": [
       "6.0"
      ]
     },
     "execution_count": 115,
     "metadata": {},
     "output_type": "execute_result"
    }
   ],
   "source": [
    "# Các đại lượng đo lường độ biến động\n",
    "# range\n",
    "df['NGONNGU'].max() - df['NGONNGU'].min()"
   ]
  },
  {
   "cell_type": "code",
   "execution_count": 116,
   "metadata": {},
   "outputs": [
    {
     "data": {
      "text/plain": [
       "2.25"
      ]
     },
     "execution_count": 116,
     "metadata": {},
     "output_type": "execute_result"
    }
   ],
   "source": [
    "# IQR = Q3 - Q1\n",
    "df['NGONNGU'].quantile(0.75) - df['NGONNGU'].quantile(0.25)"
   ]
  },
  {
   "cell_type": "code",
   "execution_count": 117,
   "metadata": {},
   "outputs": [
    {
     "data": {
      "text/plain": [
       "1.1600000000000001"
      ]
     },
     "execution_count": 117,
     "metadata": {},
     "output_type": "execute_result"
    }
   ],
   "source": [
    "# Độ lệch trung bình\n",
    "import numpy as np\n",
    "np.mean(np.abs(df['NGONNGU'] - np.mean(df['NGONNGU'])))"
   ]
  },
  {
   "cell_type": "code",
   "execution_count": 118,
   "metadata": {},
   "outputs": [
    {
     "data": {
      "text/plain": [
       "1.14492"
      ]
     },
     "execution_count": 118,
     "metadata": {},
     "output_type": "execute_result"
    }
   ],
   "source": [
    "# bài tập\n",
    "# hãy tính phân vị thứ 9 trong thập phân vị (gọi là p9)\n",
    "# cho T5 và T6\n",
    "# Hãy tính khoảng range cho T5 và T6\n",
    "df[['T5', 'T6']].max() - df[['T5', 'T6']].min()\n",
    "# Hãy tính khoảng IQR cho T5 và T6\n",
    "df[['T5', 'T6']].quantile(0.75) - df[['T5', 'T6']].quantile(0.25)\n",
    "# Tính độ lệch trung bình cho T5 và T6\n",
    "np.mean(np.abs(df[['T5', 'T6']] - np.mean(df[['T5', 'T6']])))\n"
   ]
  },
  {
   "cell_type": "code",
   "execution_count": 119,
   "metadata": {},
   "outputs": [
    {
     "data": {
      "text/plain": [
       "2.0289393939393943"
      ]
     },
     "execution_count": 119,
     "metadata": {},
     "output_type": "execute_result"
    }
   ],
   "source": [
    "# Phương sai (Var)\n",
    "df['NGONNGU'].var()"
   ]
  },
  {
   "cell_type": "code",
   "execution_count": 120,
   "metadata": {},
   "outputs": [
    {
     "data": {
      "text/plain": [
       "1.424408436488423"
      ]
     },
     "execution_count": 120,
     "metadata": {},
     "output_type": "execute_result"
    }
   ],
   "source": [
    "#Phương sai (std)\n",
    "df['NGONNGU'].std()"
   ]
  },
  {
   "cell_type": "code",
   "execution_count": 121,
   "metadata": {},
   "outputs": [
    {
     "name": "stdout",
     "output_type": "stream",
     "text": [
      "T5    6.717\n",
      "T6    6.937\n",
      "dtype: float64\n",
      "T5    1.478059\n",
      "T6    1.363200\n",
      "dtype: float64\n"
     ]
    }
   ],
   "source": [
    "# Phương pháp sử dụng std để so sánh\n",
    "# Mức độ biến động của hai hay nhiều biến số\n",
    "# Ví dụ: Hãy so sánh mức độ ổn định của T5 và T6\n",
    "print(df[['T5', 'T6']].mean())\n",
    "print(df[['T5', 'T6']].std())\n",
    "# Lưu ý: Cần đảm bảo T5, T6 cùng hệ quy chiếu (độ đo đơn vị so sánh)\n",
    "# Giá trị trung bình T5 và T6 xấp xỉ nhau"
   ]
  },
  {
   "cell_type": "code",
   "execution_count": 128,
   "metadata": {},
   "outputs": [
    {
     "data": {
      "text/plain": [
       "[0.2491311130540305, 0.3808578707188297, 0.2135664058628459]"
      ]
     },
     "execution_count": 128,
     "metadata": {},
     "output_type": "execute_result"
    }
   ],
   "source": [
    "# Phương pháp dùng Cofficient of variance (CV) để\n",
    "# Mức độ biến động của hai hay nhiều biến ố\n",
    "# hãy so sánh mức độ biến động của LOGIC và NGONNGU\n",
    "cv = df[['LOGIC', 'NGONNGU', 'UNGXU']].std() / df[['LOGIC', 'NGONNGU', 'UNGXU']].mean()\n",
    "list(cv)"
   ]
  },
  {
   "cell_type": "code",
   "execution_count": 123,
   "metadata": {},
   "outputs": [
    {
     "data": {
      "text/plain": [
       "count    100.000000\n",
       "mean       3.740000\n",
       "std        1.424408\n",
       "min        1.000000\n",
       "25%        2.500000\n",
       "50%        3.625000\n",
       "75%        4.750000\n",
       "max        7.000000\n",
       "Name: NGONNGU, dtype: float64"
      ]
     },
     "execution_count": 123,
     "metadata": {},
     "output_type": "execute_result"
    }
   ],
   "source": [
    "# Mô tả biến định lượng\n",
    "df['NGONNGU'].describe()"
   ]
  },
  {
   "cell_type": "code",
   "execution_count": 124,
   "metadata": {},
   "outputs": [
    {
     "data": {
      "text/html": [
       "<div>\n",
       "<style scoped>\n",
       "    .dataframe tbody tr th:only-of-type {\n",
       "        vertical-align: middle;\n",
       "    }\n",
       "\n",
       "    .dataframe tbody tr th {\n",
       "        vertical-align: top;\n",
       "    }\n",
       "\n",
       "    .dataframe thead th {\n",
       "        text-align: right;\n",
       "    }\n",
       "</style>\n",
       "<table border=\"1\" class=\"dataframe\">\n",
       "  <thead>\n",
       "    <tr style=\"text-align: right;\">\n",
       "      <th></th>\n",
       "      <th>NGONNGU</th>\n",
       "      <th>LOGIC</th>\n",
       "      <th>UNGXU</th>\n",
       "    </tr>\n",
       "  </thead>\n",
       "  <tbody>\n",
       "    <tr>\n",
       "      <th>count</th>\n",
       "      <td>100.000000</td>\n",
       "      <td>100.000000</td>\n",
       "      <td>100.000000</td>\n",
       "    </tr>\n",
       "    <tr>\n",
       "      <th>mean</th>\n",
       "      <td>3.740000</td>\n",
       "      <td>4.255000</td>\n",
       "      <td>4.875000</td>\n",
       "    </tr>\n",
       "    <tr>\n",
       "      <th>std</th>\n",
       "      <td>1.424408</td>\n",
       "      <td>1.060053</td>\n",
       "      <td>1.041136</td>\n",
       "    </tr>\n",
       "    <tr>\n",
       "      <th>min</th>\n",
       "      <td>1.000000</td>\n",
       "      <td>1.500000</td>\n",
       "      <td>2.750000</td>\n",
       "    </tr>\n",
       "    <tr>\n",
       "      <th>25%</th>\n",
       "      <td>2.500000</td>\n",
       "      <td>3.500000</td>\n",
       "      <td>4.250000</td>\n",
       "    </tr>\n",
       "    <tr>\n",
       "      <th>50%</th>\n",
       "      <td>3.625000</td>\n",
       "      <td>4.125000</td>\n",
       "      <td>4.750000</td>\n",
       "    </tr>\n",
       "    <tr>\n",
       "      <th>75%</th>\n",
       "      <td>4.750000</td>\n",
       "      <td>4.750000</td>\n",
       "      <td>5.500000</td>\n",
       "    </tr>\n",
       "    <tr>\n",
       "      <th>max</th>\n",
       "      <td>7.000000</td>\n",
       "      <td>8.000000</td>\n",
       "      <td>8.000000</td>\n",
       "    </tr>\n",
       "  </tbody>\n",
       "</table>\n",
       "</div>"
      ],
      "text/plain": [
       "          NGONNGU       LOGIC       UNGXU\n",
       "count  100.000000  100.000000  100.000000\n",
       "mean     3.740000    4.255000    4.875000\n",
       "std      1.424408    1.060053    1.041136\n",
       "min      1.000000    1.500000    2.750000\n",
       "25%      2.500000    3.500000    4.250000\n",
       "50%      3.625000    4.125000    4.750000\n",
       "75%      4.750000    4.750000    5.500000\n",
       "max      7.000000    8.000000    8.000000"
      ]
     },
     "execution_count": 124,
     "metadata": {},
     "output_type": "execute_result"
    }
   ],
   "source": [
    "df[['NGONNGU', 'LOGIC', 'UNGXU']].describe()\n",
    "# So sánh mức độ ổn định của điểm số\n",
    "# trong kì thi đánh gái năng lực\n",
    "# Hãy sắp xếp tăng đần mức độ ổn định trong 3 cột điểm\n",
    "# Gọi ý: Hướng dẫn giá trị CV(cofficient of variant)"
   ]
  },
  {
   "cell_type": "code",
   "execution_count": 125,
   "metadata": {},
   "outputs": [
    {
     "data": {
      "text/html": [
       "<div>\n",
       "<style scoped>\n",
       "    .dataframe tbody tr th:only-of-type {\n",
       "        vertical-align: middle;\n",
       "    }\n",
       "\n",
       "    .dataframe tbody tr th {\n",
       "        vertical-align: top;\n",
       "    }\n",
       "\n",
       "    .dataframe thead th {\n",
       "        text-align: right;\n",
       "    }\n",
       "</style>\n",
       "<table border=\"1\" class=\"dataframe\">\n",
       "  <thead>\n",
       "    <tr style=\"text-align: right;\">\n",
       "      <th></th>\n",
       "      <th>count</th>\n",
       "      <th>mean</th>\n",
       "      <th>std</th>\n",
       "      <th>min</th>\n",
       "      <th>25%</th>\n",
       "      <th>50%</th>\n",
       "      <th>75%</th>\n",
       "      <th>max</th>\n",
       "    </tr>\n",
       "    <tr>\n",
       "      <th>GT</th>\n",
       "      <th></th>\n",
       "      <th></th>\n",
       "      <th></th>\n",
       "      <th></th>\n",
       "      <th></th>\n",
       "      <th></th>\n",
       "      <th></th>\n",
       "      <th></th>\n",
       "    </tr>\n",
       "  </thead>\n",
       "  <tbody>\n",
       "    <tr>\n",
       "      <th>F</th>\n",
       "      <td>48.0</td>\n",
       "      <td>3.854167</td>\n",
       "      <td>1.348594</td>\n",
       "      <td>1.25</td>\n",
       "      <td>3.1875</td>\n",
       "      <td>3.75</td>\n",
       "      <td>5.0</td>\n",
       "      <td>7.0</td>\n",
       "    </tr>\n",
       "    <tr>\n",
       "      <th>M</th>\n",
       "      <td>52.0</td>\n",
       "      <td>3.634615</td>\n",
       "      <td>1.496288</td>\n",
       "      <td>1.00</td>\n",
       "      <td>2.4375</td>\n",
       "      <td>3.50</td>\n",
       "      <td>4.5</td>\n",
       "      <td>7.0</td>\n",
       "    </tr>\n",
       "  </tbody>\n",
       "</table>\n",
       "</div>"
      ],
      "text/plain": [
       "    count      mean       std   min     25%   50%  75%  max\n",
       "GT                                                         \n",
       "F    48.0  3.854167  1.348594  1.25  3.1875  3.75  5.0  7.0\n",
       "M    52.0  3.634615  1.496288  1.00  2.4375  3.50  4.5  7.0"
      ]
     },
     "execution_count": 125,
     "metadata": {},
     "output_type": "execute_result"
    }
   ],
   "source": [
    "df.groupby('GT')['NGONNGU'].describe()\n",
    "# Đánh giá xem nhóm giới tính nào học ngôn ngữ tốt hơn"
   ]
  },
  {
   "cell_type": "code",
   "execution_count": 126,
   "metadata": {},
   "outputs": [
    {
     "data": {
      "text/html": [
       "<div>\n",
       "<style scoped>\n",
       "    .dataframe tbody tr th:only-of-type {\n",
       "        vertical-align: middle;\n",
       "    }\n",
       "\n",
       "    .dataframe tbody tr th {\n",
       "        vertical-align: top;\n",
       "    }\n",
       "\n",
       "    .dataframe thead tr th {\n",
       "        text-align: left;\n",
       "    }\n",
       "\n",
       "    .dataframe thead tr:last-of-type th {\n",
       "        text-align: right;\n",
       "    }\n",
       "</style>\n",
       "<table border=\"1\" class=\"dataframe\">\n",
       "  <thead>\n",
       "    <tr>\n",
       "      <th></th>\n",
       "      <th colspan=\"8\" halign=\"left\">T1</th>\n",
       "      <th colspan=\"5\" halign=\"left\">T2</th>\n",
       "      <th colspan=\"8\" halign=\"left\">T3</th>\n",
       "    </tr>\n",
       "    <tr>\n",
       "      <th></th>\n",
       "      <th>count</th>\n",
       "      <th>mean</th>\n",
       "      <th>std</th>\n",
       "      <th>min</th>\n",
       "      <th>25%</th>\n",
       "      <th>50%</th>\n",
       "      <th>75%</th>\n",
       "      <th>max</th>\n",
       "      <th>count</th>\n",
       "      <th>mean</th>\n",
       "      <th>...</th>\n",
       "      <th>75%</th>\n",
       "      <th>max</th>\n",
       "      <th>count</th>\n",
       "      <th>mean</th>\n",
       "      <th>std</th>\n",
       "      <th>min</th>\n",
       "      <th>25%</th>\n",
       "      <th>50%</th>\n",
       "      <th>75%</th>\n",
       "      <th>max</th>\n",
       "    </tr>\n",
       "    <tr>\n",
       "      <th>GT</th>\n",
       "      <th></th>\n",
       "      <th></th>\n",
       "      <th></th>\n",
       "      <th></th>\n",
       "      <th></th>\n",
       "      <th></th>\n",
       "      <th></th>\n",
       "      <th></th>\n",
       "      <th></th>\n",
       "      <th></th>\n",
       "      <th></th>\n",
       "      <th></th>\n",
       "      <th></th>\n",
       "      <th></th>\n",
       "      <th></th>\n",
       "      <th></th>\n",
       "      <th></th>\n",
       "      <th></th>\n",
       "      <th></th>\n",
       "      <th></th>\n",
       "      <th></th>\n",
       "    </tr>\n",
       "  </thead>\n",
       "  <tbody>\n",
       "    <tr>\n",
       "      <th>F</th>\n",
       "      <td>48.0</td>\n",
       "      <td>6.187500</td>\n",
       "      <td>1.612006</td>\n",
       "      <td>2.4</td>\n",
       "      <td>5.175</td>\n",
       "      <td>6.2</td>\n",
       "      <td>7.300</td>\n",
       "      <td>8.8</td>\n",
       "      <td>48.0</td>\n",
       "      <td>6.614583</td>\n",
       "      <td>...</td>\n",
       "      <td>7.925</td>\n",
       "      <td>9.2</td>\n",
       "      <td>48.0</td>\n",
       "      <td>6.518750</td>\n",
       "      <td>1.545846</td>\n",
       "      <td>2.3</td>\n",
       "      <td>5.45</td>\n",
       "      <td>6.8</td>\n",
       "      <td>7.525</td>\n",
       "      <td>9.3</td>\n",
       "    </tr>\n",
       "    <tr>\n",
       "      <th>M</th>\n",
       "      <td>52.0</td>\n",
       "      <td>5.723077</td>\n",
       "      <td>1.587774</td>\n",
       "      <td>2.5</td>\n",
       "      <td>4.850</td>\n",
       "      <td>5.6</td>\n",
       "      <td>6.525</td>\n",
       "      <td>9.3</td>\n",
       "      <td>52.0</td>\n",
       "      <td>6.151923</td>\n",
       "      <td>...</td>\n",
       "      <td>6.975</td>\n",
       "      <td>9.6</td>\n",
       "      <td>52.0</td>\n",
       "      <td>6.257692</td>\n",
       "      <td>1.605181</td>\n",
       "      <td>2.5</td>\n",
       "      <td>5.10</td>\n",
       "      <td>6.4</td>\n",
       "      <td>7.400</td>\n",
       "      <td>9.5</td>\n",
       "    </tr>\n",
       "  </tbody>\n",
       "</table>\n",
       "<p>2 rows × 24 columns</p>\n",
       "</div>"
      ],
      "text/plain": [
       "      T1                                                     T2            \\\n",
       "   count      mean       std  min    25%  50%    75%  max count      mean   \n",
       "GT                                                                          \n",
       "F   48.0  6.187500  1.612006  2.4  5.175  6.2  7.300  8.8  48.0  6.614583   \n",
       "M   52.0  5.723077  1.587774  2.5  4.850  5.6  6.525  9.3  52.0  6.151923   \n",
       "\n",
       "    ...                T3                                                  \n",
       "    ...    75%  max count      mean       std  min   25%  50%    75%  max  \n",
       "GT  ...                                                                    \n",
       "F   ...  7.925  9.2  48.0  6.518750  1.545846  2.3  5.45  6.8  7.525  9.3  \n",
       "M   ...  6.975  9.6  52.0  6.257692  1.605181  2.5  5.10  6.4  7.400  9.5  \n",
       "\n",
       "[2 rows x 24 columns]"
      ]
     },
     "execution_count": 126,
     "metadata": {},
     "output_type": "execute_result"
    }
   ],
   "source": [
    "# Sinh viên có giới tính nam thì thi môn nào tôt hơn so với nữ\n",
    "df.groupby('GT')[['T1', 'T2', 'T3']].describe()"
   ]
  },
  {
   "cell_type": "code",
   "execution_count": null,
   "metadata": {},
   "outputs": [],
   "source": []
  }
 ],
 "metadata": {
  "kernelspec": {
   "display_name": "Python 3",
   "language": "python",
   "name": "python3"
  },
  "language_info": {
   "codemirror_mode": {
    "name": "ipython",
    "version": 3
   },
   "file_extension": ".py",
   "mimetype": "text/x-python",
   "name": "python",
   "nbconvert_exporter": "python",
   "pygments_lexer": "ipython3",
   "version": "3.11.4"
  },
  "orig_nbformat": 4
 },
 "nbformat": 4,
 "nbformat_minor": 2
}

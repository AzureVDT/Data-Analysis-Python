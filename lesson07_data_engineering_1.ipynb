{
 "cells": [
  {
   "cell_type": "markdown",
   "metadata": {},
   "source": [
    "# Chuẩn hóa dữ liệu sử dụng method min max scaler\n"
   ]
  },
  {
   "cell_type": "code",
   "execution_count": 1,
   "metadata": {},
   "outputs": [],
   "source": [
    "import pandas as pd\n",
    "import seaborn as sns\n",
    "import matplotlib.pyplot as plt\n",
    "df = pd.read_csv('dulieuxettuyendaihoc.csv', header=0, delimiter=',', encoding='utf-8')\n",
    "df = df[['T5', 'T6', 'NGONNGU']]\n",
    "# Tập dữ liệu Input và Output\n",
    "X = df[['T5', 'T6']].values #input\n",
    "y = df['NGONNGU'].values #output"
   ]
  },
  {
   "cell_type": "code",
   "execution_count": 3,
   "metadata": {},
   "outputs": [],
   "source": [
    "from sklearn.model_selection import train_test_split\n",
    "X_train, X_test, y_train, y_test = train_test_split(X, y, test_size=0.2, random_state=16)"
   ]
  },
  {
   "cell_type": "code",
   "execution_count": 6,
   "metadata": {},
   "outputs": [],
   "source": [
    "from sklearn.preprocessing import MinMaxScaler\n",
    "# Scale cho Input\n",
    "sc = MinMaxScaler()\n",
    "X_train = sc.fit_transform(X_train)\n",
    "# Chỉ chạy 1 lần"
   ]
  },
  {
   "cell_type": "code",
   "execution_count": 7,
   "metadata": {},
   "outputs": [
    {
     "name": "stdout",
     "output_type": "stream",
     "text": [
      "3.739364981814836\n",
      "[ 1.268621   -1.34529033]\n"
     ]
    }
   ],
   "source": [
    "# Xây dựng mô hình hồi quy tuyến tính đa biến\n",
    "# ? = A0 + A1*? + A2*? + epsilon\n",
    "from sklearn import linear_model\n",
    "model = linear_model.LinearRegression()\n",
    "model.fit(X_train, y_train)\n",
    "# Sinh viên xác định các giá trị này tương ứng với gì\n",
    "# To retrieve the intercept\n",
    "print(model.intercept_)\n",
    "# For retrieving the slope(coefficient of x)\n",
    "print(model.coef_)\n"
   ]
  },
  {
   "cell_type": "code",
   "execution_count": 8,
   "metadata": {},
   "outputs": [
    {
     "name": "stdout",
     "output_type": "stream",
     "text": [
      "Score or R-Squared: -0.07691460875153733\n",
      "Mean Absolute Error: 1.1905472933346881\n",
      "Mean Squared Error: 1.9874122568694386\n",
      "Root Mean Squared Error: 1.409756098362209\n",
      "Mean Absolute Percentage Error: 38.12386409968104\n"
     ]
    }
   ],
   "source": [
    "# Đánh giá mô hình\n",
    "import numpy as np\n",
    "from sklearn import metrics\n",
    "X_test = sc.transform(X_test)\n",
    "y_test_pred = model.predict(X_test)\n",
    "print('Score or R-Squared:', model.score(X_test, y_test))\n",
    "print('Mean Absolute Error:', metrics.mean_absolute_error(y_test, y_test_pred))\n",
    "print('Mean Squared Error:', metrics.mean_squared_error(y_test, y_test_pred))\n",
    "print('Root Mean Squared Error:', np.sqrt(metrics.mean_squared_error(y_test, y_test_pred)))\n",
    "print('Mean Absolute Percentage Error:', np.mean(np.abs((y_test - y_test_pred) / y_test)))"
   ]
  },
  {
   "cell_type": "code",
   "execution_count": 12,
   "metadata": {},
   "outputs": [
    {
     "name": "stdout",
     "output_type": "stream",
     "text": [
      "Giá trị T5 và T6 say khi scale:  [[0.46153846 0.65517241]]\n",
      "Giá trị dự báo điểm ngôn ngữ: [3.44348526]\n"
     ]
    }
   ],
   "source": [
    "vT5 = 6.0\n",
    "vT6 = 7.5\n",
    "scaled = sc.transform([[vT5, vT6]])\n",
    "print(f\"Giá trị T5 và T6 say khi scale:  {scaled}\")\n",
    "predicted_ngonngu = model.predict(scaled)\n",
    "print(f\"Giá trị dự báo điểm ngôn ngữ: {predicted_ngonngu}\")"
   ]
  },
  {
   "cell_type": "code",
   "execution_count": null,
   "metadata": {},
   "outputs": [],
   "source": []
  }
 ],
 "metadata": {
  "kernelspec": {
   "display_name": "Python 3",
   "language": "python",
   "name": "python3"
  },
  "language_info": {
   "codemirror_mode": {
    "name": "ipython",
    "version": 3
   },
   "file_extension": ".py",
   "mimetype": "text/x-python",
   "name": "python",
   "nbconvert_exporter": "python",
   "pygments_lexer": "ipython3",
   "version": "3.11.4"
  },
  "orig_nbformat": 4
 },
 "nbformat": 4,
 "nbformat_minor": 2
}

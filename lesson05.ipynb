{
 "cells": [
  {
   "cell_type": "code",
   "execution_count": 10,
   "metadata": {},
   "outputs": [],
   "source": [
    "# https://www.statology.org/data-binning-in-python/\n",
    "# Kỹ thuật Binning: Phân khoảng biến định lượng thành các khoảng định tính\n",
    "# Mục đích: \n",
    "# - Sử dụng để biến đổi biến định lượng và biến định tính thông qua việc phân chia khoảng\n",
    "# - Giảm thiểu dữ liệu nhiễu"
   ]
  },
  {
   "cell_type": "code",
   "execution_count": 11,
   "metadata": {},
   "outputs": [
    {
     "name": "stdout",
     "output_type": "stream",
     "text": [
      "    points  assists  rebounds\n",
      "0        4        2         7\n",
      "1        4        5         7\n",
      "2        7        4         4\n",
      "3        8        7         6\n",
      "4       12        7         3\n",
      "5       13        8         8\n",
      "6       15        5         9\n",
      "7       18        4         9\n",
      "8       22        5        12\n",
      "9       23       11        11\n",
      "10      23       13         8\n",
      "11      25        8         9\n"
     ]
    },
    {
     "data": {
      "text/plain": [
       "(12, 3)"
      ]
     },
     "execution_count": 11,
     "metadata": {},
     "output_type": "execute_result"
    }
   ],
   "source": [
    "import pandas as pd\n",
    "\n",
    "#create DataFrame\n",
    "df = pd.DataFrame({'points': [4, 4, 7, 8, 12, 13, 15, 18, 22, 23, 23, 25],\n",
    "                   'assists': [2, 5, 4, 7, 7, 8, 5, 4, 5, 11, 13, 8],\n",
    "                   'rebounds': [7, 7, 4, 6, 3, 8, 9, 9, 12, 11, 8, 9]})\n",
    "print(df)\n",
    "df.shape"
   ]
  },
  {
   "cell_type": "code",
   "execution_count": 12,
   "metadata": {},
   "outputs": [
    {
     "name": "stdout",
     "output_type": "stream",
     "text": [
      "    points  assists  rebounds    points_bin\n",
      "0        4        2         7  (3.999, 7.2]\n",
      "1        4        5         7  (3.999, 7.2]\n",
      "2        7        4         4  (3.999, 7.2]\n",
      "3        8        7         6   (7.2, 12.4]\n",
      "4       12        7         3   (7.2, 12.4]\n",
      "5       13        8         8  (12.4, 16.8]\n",
      "6       15        5         9  (12.4, 16.8]\n",
      "7       18        4         9  (16.8, 22.8]\n",
      "8       22        5        12  (16.8, 22.8]\n",
      "9       23       11        11  (22.8, 25.0]\n",
      "10      23       13         8  (22.8, 25.0]\n",
      "11      25        8         9  (22.8, 25.0]\n"
     ]
    }
   ],
   "source": [
    "#perform data binning on points variable (cắt ra làm 5 khoảng)\n",
    "df['points_bin'] = pd.qcut(df['points'], q=5)\n",
    "print(df)"
   ]
  },
  {
   "cell_type": "code",
   "execution_count": 13,
   "metadata": {},
   "outputs": [
    {
     "data": {
      "text/plain": [
       "points_bin\n",
       "(3.999, 7.2]    3\n",
       "(22.8, 25.0]    3\n",
       "(7.2, 12.4]     2\n",
       "(12.4, 16.8]    2\n",
       "(16.8, 22.8]    2\n",
       "Name: count, dtype: int64"
      ]
     },
     "execution_count": 13,
     "metadata": {},
     "output_type": "execute_result"
    }
   ],
   "source": [
    "#count frequency of each bin\n",
    "df['points_bin'].value_counts()"
   ]
  },
  {
   "cell_type": "code",
   "execution_count": 14,
   "metadata": {},
   "outputs": [
    {
     "name": "stdout",
     "output_type": "stream",
     "text": [
      "    points  assists  rebounds     points_bin\n",
      "0        4        2         7  (3.999, 12.4]\n",
      "1        4        5         7  (3.999, 12.4]\n",
      "2        7        4         4  (3.999, 12.4]\n",
      "3        8        7         6  (3.999, 12.4]\n",
      "4       12        7         3  (3.999, 12.4]\n",
      "5       13        8         8   (12.4, 16.8]\n",
      "6       15        5         9   (12.4, 16.8]\n",
      "7       18        4         9   (16.8, 25.0]\n",
      "8       22        5        12   (16.8, 25.0]\n",
      "9       23       11        11   (16.8, 25.0]\n",
      "10      23       13         8   (16.8, 25.0]\n",
      "11      25        8         9   (16.8, 25.0]\n"
     ]
    }
   ],
   "source": [
    "#perform data binning on points variable with specific quantiles\n",
    "df['points_bin'] = pd.qcut(df['points'], q=[0, .4, .6, 1])\n",
    "print(df)"
   ]
  },
  {
   "cell_type": "code",
   "execution_count": 15,
   "metadata": {},
   "outputs": [
    {
     "name": "stdout",
     "output_type": "stream",
     "text": [
      "    points  assists  rebounds points_bin\n",
      "0        4        2         7          A\n",
      "1        4        5         7          A\n",
      "2        7        4         4          A\n",
      "3        8        7         6          B\n",
      "4       12        7         3          B\n",
      "5       13        8         8          C\n",
      "6       15        5         9          C\n",
      "7       18        4         9          D\n",
      "8       22        5        12          D\n",
      "9       23       11        11          E\n",
      "10      23       13         8          E\n",
      "11      25        8         9          E\n"
     ]
    }
   ],
   "source": [
    "#perform data binning on points variable with specific quantiles and labels\n",
    "df['points_bin'] = pd.qcut(df['points'],\n",
    "                           q=[0, .2, .4, .6, .8, 1],\n",
    "                           labels=['A', 'B', 'C', 'D', 'E'])\n",
    "print(df)"
   ]
  },
  {
   "cell_type": "code",
   "execution_count": 16,
   "metadata": {},
   "outputs": [
    {
     "name": "stdout",
     "output_type": "stream",
     "text": [
      "  team  points\n",
      "0    A      12\n",
      "1    B      15\n",
      "2    C      19\n",
      "3    D      22\n",
      "4    E      24\n",
      "5    F      25\n",
      "6    G      26\n",
      "7    H      30\n"
     ]
    }
   ],
   "source": [
    "# Kỹ thuật categorical: https://www.statology.org/pandas-create-categorical-variable/\n",
    "import pandas as pd\n",
    "\n",
    "#create DataFrame with one categorical variable and one numeric variable\n",
    "df = pd.DataFrame({'team': ['A', 'B', 'C', 'D', 'E', 'F', 'G', 'H'],\n",
    "                   'points': [12, 15, 19, 22, 24, 25, 26, 30]})\n",
    "\n",
    "#view DataFrame\n",
    "print(df)"
   ]
  },
  {
   "cell_type": "code",
   "execution_count": 17,
   "metadata": {},
   "outputs": [
    {
     "name": "stdout",
     "output_type": "stream",
     "text": [
      "  team  points status\n",
      "0    A      12    Bad\n",
      "1    B      15    Bad\n",
      "2    C      19     OK\n",
      "3    D      22     OK\n",
      "4    E      24     OK\n",
      "5    F      25     OK\n",
      "6    G      26   Good\n",
      "7    H      30   Good\n"
     ]
    }
   ],
   "source": [
    "df['status'] = pd.cut(df['points'],\n",
    "                      bins=[0, 15, 25, float('Inf')],\n",
    "                      labels=['Bad', 'OK', 'Good'])\n",
    "#view DataFrame\n",
    "print(df)"
   ]
  },
  {
   "cell_type": "code",
   "execution_count": 19,
   "metadata": {},
   "outputs": [
    {
     "name": "stdout",
     "output_type": "stream",
     "text": [
      "   Ids Countries\n",
      "0   11     Spain\n",
      "1   22    France\n",
      "2   33     Spain\n",
      "3   44   Germany\n",
      "4   55    France\n"
     ]
    }
   ],
   "source": [
    "# https://stackabuse.com/one-hot-encoding-in-python-with-pandas-and-scikit-learn/\n",
    "import pandas as pd\n",
    "\n",
    "ids = [11, 22, 33, 44, 55, 66, 77]\n",
    "countries = ['Spain', 'France', 'Spain', 'Germany', 'France']\n",
    "\n",
    "df = pd.DataFrame(list(zip(ids, countries)),\n",
    "                  columns=['Ids', 'Countries'])\n",
    "print(df)"
   ]
  },
  {
   "cell_type": "code",
   "execution_count": 20,
   "metadata": {},
   "outputs": [
    {
     "name": "stdout",
     "output_type": "stream",
     "text": [
      "   Country_France  Country_Germany  Country_Spain\n",
      "0           False            False           True\n",
      "1            True            False          False\n",
      "2           False            False           True\n",
      "3           False             True          False\n",
      "4            True            False          False\n"
     ]
    }
   ],
   "source": [
    "dfOneHotEncoding = pd.get_dummies(df.Countries, prefix='Country')\n",
    "print(dfOneHotEncoding.head())"
   ]
  },
  {
   "cell_type": "code",
   "execution_count": 21,
   "metadata": {},
   "outputs": [
    {
     "data": {
      "text/html": [
       "<div>\n",
       "<style scoped>\n",
       "    .dataframe tbody tr th:only-of-type {\n",
       "        vertical-align: middle;\n",
       "    }\n",
       "\n",
       "    .dataframe tbody tr th {\n",
       "        vertical-align: top;\n",
       "    }\n",
       "\n",
       "    .dataframe thead th {\n",
       "        text-align: right;\n",
       "    }\n",
       "</style>\n",
       "<table border=\"1\" class=\"dataframe\">\n",
       "  <thead>\n",
       "    <tr style=\"text-align: right;\">\n",
       "      <th></th>\n",
       "      <th>Ids</th>\n",
       "      <th>Countries</th>\n",
       "      <th>Country_France</th>\n",
       "      <th>Country_Germany</th>\n",
       "      <th>Country_Spain</th>\n",
       "    </tr>\n",
       "  </thead>\n",
       "  <tbody>\n",
       "    <tr>\n",
       "      <th>0</th>\n",
       "      <td>11</td>\n",
       "      <td>Spain</td>\n",
       "      <td>False</td>\n",
       "      <td>False</td>\n",
       "      <td>True</td>\n",
       "    </tr>\n",
       "    <tr>\n",
       "      <th>1</th>\n",
       "      <td>22</td>\n",
       "      <td>France</td>\n",
       "      <td>True</td>\n",
       "      <td>False</td>\n",
       "      <td>False</td>\n",
       "    </tr>\n",
       "    <tr>\n",
       "      <th>2</th>\n",
       "      <td>33</td>\n",
       "      <td>Spain</td>\n",
       "      <td>False</td>\n",
       "      <td>False</td>\n",
       "      <td>True</td>\n",
       "    </tr>\n",
       "    <tr>\n",
       "      <th>3</th>\n",
       "      <td>44</td>\n",
       "      <td>Germany</td>\n",
       "      <td>False</td>\n",
       "      <td>True</td>\n",
       "      <td>False</td>\n",
       "    </tr>\n",
       "    <tr>\n",
       "      <th>4</th>\n",
       "      <td>55</td>\n",
       "      <td>France</td>\n",
       "      <td>True</td>\n",
       "      <td>False</td>\n",
       "      <td>False</td>\n",
       "    </tr>\n",
       "  </tbody>\n",
       "</table>\n",
       "</div>"
      ],
      "text/plain": [
       "   Ids Countries  Country_France  Country_Germany  Country_Spain\n",
       "0   11     Spain           False            False           True\n",
       "1   22    France            True            False          False\n",
       "2   33     Spain           False            False           True\n",
       "3   44   Germany           False             True          False\n",
       "4   55    France            True            False          False"
      ]
     },
     "execution_count": 21,
     "metadata": {},
     "output_type": "execute_result"
    }
   ],
   "source": [
    "# https://www.geeksforgeeks.org/how-to-concatenate-two-or-more-pandas-dataframes/\n",
    "df = pd.concat([df, dfOneHotEncoding], axis=1)\n",
    "df"
   ]
  },
  {
   "cell_type": "code",
   "execution_count": 25,
   "metadata": {},
   "outputs": [
    {
     "data": {
      "text/plain": [
       "array([[0, 0, 1],\n",
       "       [1, 0, 0],\n",
       "       [0, 0, 1],\n",
       "       [0, 1, 0],\n",
       "       [1, 0, 0]])"
      ]
     },
     "execution_count": 25,
     "metadata": {},
     "output_type": "execute_result"
    }
   ],
   "source": [
    "# Encoding to vectorize\n",
    "from sklearn.preprocessing import LabelBinarizer\n",
    "y = LabelBinarizer().fit_transform(df.Countries)\n",
    "y"
   ]
  },
  {
   "cell_type": "code",
   "execution_count": 26,
   "metadata": {},
   "outputs": [
    {
     "data": {
      "text/html": [
       "<div>\n",
       "<style scoped>\n",
       "    .dataframe tbody tr th:only-of-type {\n",
       "        vertical-align: middle;\n",
       "    }\n",
       "\n",
       "    .dataframe tbody tr th {\n",
       "        vertical-align: top;\n",
       "    }\n",
       "\n",
       "    .dataframe thead th {\n",
       "        text-align: right;\n",
       "    }\n",
       "</style>\n",
       "<table border=\"1\" class=\"dataframe\">\n",
       "  <thead>\n",
       "    <tr style=\"text-align: right;\">\n",
       "      <th></th>\n",
       "      <th>Năm</th>\n",
       "      <th>Lương HCM</th>\n",
       "      <th>Lương Long An</th>\n",
       "    </tr>\n",
       "  </thead>\n",
       "  <tbody>\n",
       "    <tr>\n",
       "      <th>0</th>\n",
       "      <td>2010</td>\n",
       "      <td>8.5</td>\n",
       "      <td>5.5</td>\n",
       "    </tr>\n",
       "    <tr>\n",
       "      <th>1</th>\n",
       "      <td>2011</td>\n",
       "      <td>9.0</td>\n",
       "      <td>6.0</td>\n",
       "    </tr>\n",
       "    <tr>\n",
       "      <th>2</th>\n",
       "      <td>2012</td>\n",
       "      <td>9.5</td>\n",
       "      <td>6.0</td>\n",
       "    </tr>\n",
       "    <tr>\n",
       "      <th>3</th>\n",
       "      <td>2013</td>\n",
       "      <td>9.0</td>\n",
       "      <td>5.5</td>\n",
       "    </tr>\n",
       "    <tr>\n",
       "      <th>4</th>\n",
       "      <td>2014</td>\n",
       "      <td>10.0</td>\n",
       "      <td>6.0</td>\n",
       "    </tr>\n",
       "    <tr>\n",
       "      <th>5</th>\n",
       "      <td>2015</td>\n",
       "      <td>10.0</td>\n",
       "      <td>5.0</td>\n",
       "    </tr>\n",
       "  </tbody>\n",
       "</table>\n",
       "</div>"
      ],
      "text/plain": [
       "    Năm  Lương HCM  Lương Long An\n",
       "0  2010        8.5            5.5\n",
       "1  2011        9.0            6.0\n",
       "2  2012        9.5            6.0\n",
       "3  2013        9.0            5.5\n",
       "4  2014       10.0            6.0\n",
       "5  2015       10.0            5.0"
      ]
     },
     "execution_count": 26,
     "metadata": {},
     "output_type": "execute_result"
    }
   ],
   "source": [
    "import numpy as np\n",
    "import pandas as pd\n",
    "year = [2010, 2011, 2012, 2013, 2014, 2015]\n",
    "salaryHCM = [8.5, 9.0, 9.5, 9.0, 10.0, 10.0]\n",
    "salaryLA = [5.5, 6.0, 6.0, 5.5, 6.0, 5.0]\n",
    "df = pd.DataFrame(list(zip(year, salaryHCM, salaryLA)), columns=['Năm', 'Lương HCM', 'Lương Long An'])\n",
    "df"
   ]
  },
  {
   "cell_type": "code",
   "execution_count": null,
   "metadata": {},
   "outputs": [],
   "source": [
    "# https://datagy.io/pandas-normalize-column/\n",
    "# Mục đích : Làm giới hạn lại miền giá trị\n",
    "# Giảm thiểu việc tính toán số lớn, hỗ trợ trong Machine Learning\n",
    "import pandas as pd\n",
    "\n",
    "df = pd.DataFrame.from_dict({\n",
    "    'Age': [10, 35, 34, 23, 70, 55, 89],\n",
    "    'Height': [130, 178, 155, 133, 195, 150, 205],\n",
    "    'Weight': [80, 200, 220, 150, 140, 95, 180]\n",
    "})"
   ]
  },
  {
   "cell_type": "markdown",
   "metadata": {},
   "source": [
    "def absolute_maximum_scale(series):\n",
    "    return series / series.abs().max()\n",
    "\n",
    "for col in df.columns:\n",
    "    df[col] = absolute_maximum_scale(df[col])\n",
    "\n",
    "print(df)"
   ]
  },
  {
   "cell_type": "code",
   "execution_count": null,
   "metadata": {},
   "outputs": [],
   "source": [
    "# https://www.visual-design.net/post/data-transformation-and-feature-engineering-in-python"
   ]
  },
  {
   "cell_type": "code",
   "execution_count": null,
   "metadata": {},
   "outputs": [],
   "source": [
    "# https://www.delftstack.com/howto/python/smooth-data-in-python/\n",
    "import numpy as np\n",
    "from scipy.signal import savgol_filter\n",
    "import matplotlib.pyplot as plt\n",
    "\n",
    "x = np.linspace(0,2*np.pi,100)\n",
    "y = np.sin(x) + np.random.random(100) * 0.2\n",
    "yhat = savgol_filter(y, 51, 3)\n",
    "\n",
    "plt.plot(x, y)\n",
    "plt.plot(x,yhat, color='green')\n",
    "plt.show()"
   ]
  }
 ],
 "metadata": {
  "kernelspec": {
   "display_name": "Python 3",
   "language": "python",
   "name": "python3"
  },
  "language_info": {
   "codemirror_mode": {
    "name": "ipython",
    "version": 3
   },
   "file_extension": ".py",
   "mimetype": "text/x-python",
   "name": "python",
   "nbconvert_exporter": "python",
   "pygments_lexer": "ipython3",
   "version": "3.11.4"
  },
  "orig_nbformat": 4
 },
 "nbformat": 4,
 "nbformat_minor": 2
}

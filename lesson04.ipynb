{
 "cells": [
  {
   "cell_type": "code",
   "execution_count": 17,
   "metadata": {},
   "outputs": [
    {
     "data": {
      "text/html": [
       "<div>\n",
       "<style scoped>\n",
       "    .dataframe tbody tr th:only-of-type {\n",
       "        vertical-align: middle;\n",
       "    }\n",
       "\n",
       "    .dataframe tbody tr th {\n",
       "        vertical-align: top;\n",
       "    }\n",
       "\n",
       "    .dataframe thead th {\n",
       "        text-align: right;\n",
       "    }\n",
       "</style>\n",
       "<table border=\"1\" class=\"dataframe\">\n",
       "  <thead>\n",
       "    <tr style=\"text-align: right;\">\n",
       "      <th></th>\n",
       "      <th>MSSV</th>\n",
       "      <th>T1</th>\n",
       "      <th>T2</th>\n",
       "      <th>T3</th>\n",
       "      <th>T4</th>\n",
       "      <th>T5</th>\n",
       "      <th>T6</th>\n",
       "      <th>GT</th>\n",
       "      <th>DT</th>\n",
       "      <th>KV</th>\n",
       "      <th>NGONNGU</th>\n",
       "      <th>LOGIC</th>\n",
       "      <th>UNGXU</th>\n",
       "      <th>KT</th>\n",
       "      <th>NGAYTHI</th>\n",
       "      <th>HUONGNGHIEP</th>\n",
       "    </tr>\n",
       "  </thead>\n",
       "  <tbody>\n",
       "    <tr>\n",
       "      <th>0</th>\n",
       "      <td>SV001</td>\n",
       "      <td>7.2</td>\n",
       "      <td>8.4</td>\n",
       "      <td>7.4</td>\n",
       "      <td>7.2</td>\n",
       "      <td>7.4</td>\n",
       "      <td>6.9</td>\n",
       "      <td>F</td>\n",
       "      <td>NaN</td>\n",
       "      <td>2NT</td>\n",
       "      <td>3.25</td>\n",
       "      <td>3.25</td>\n",
       "      <td>4.50</td>\n",
       "      <td>A1</td>\n",
       "      <td>12/7/2018</td>\n",
       "      <td>No</td>\n",
       "    </tr>\n",
       "    <tr>\n",
       "      <th>1</th>\n",
       "      <td>SV002</td>\n",
       "      <td>5.4</td>\n",
       "      <td>6.3</td>\n",
       "      <td>4.3</td>\n",
       "      <td>4.9</td>\n",
       "      <td>3.0</td>\n",
       "      <td>4.0</td>\n",
       "      <td>M</td>\n",
       "      <td>NaN</td>\n",
       "      <td>1</td>\n",
       "      <td>6.00</td>\n",
       "      <td>4.00</td>\n",
       "      <td>3.50</td>\n",
       "      <td>C</td>\n",
       "      <td>12/7/2018</td>\n",
       "      <td>Yes</td>\n",
       "    </tr>\n",
       "    <tr>\n",
       "      <th>2</th>\n",
       "      <td>SV003</td>\n",
       "      <td>5.6</td>\n",
       "      <td>5.0</td>\n",
       "      <td>2.8</td>\n",
       "      <td>6.1</td>\n",
       "      <td>4.8</td>\n",
       "      <td>5.7</td>\n",
       "      <td>M</td>\n",
       "      <td>NaN</td>\n",
       "      <td>1</td>\n",
       "      <td>5.00</td>\n",
       "      <td>6.75</td>\n",
       "      <td>4.00</td>\n",
       "      <td>C</td>\n",
       "      <td>12/7/2018</td>\n",
       "      <td>No</td>\n",
       "    </tr>\n",
       "    <tr>\n",
       "      <th>3</th>\n",
       "      <td>SV004</td>\n",
       "      <td>6.6</td>\n",
       "      <td>5.1</td>\n",
       "      <td>5.9</td>\n",
       "      <td>4.1</td>\n",
       "      <td>6.1</td>\n",
       "      <td>7.4</td>\n",
       "      <td>M</td>\n",
       "      <td>NaN</td>\n",
       "      <td>1</td>\n",
       "      <td>4.25</td>\n",
       "      <td>4.25</td>\n",
       "      <td>5.25</td>\n",
       "      <td>D1</td>\n",
       "      <td>12/7/2018</td>\n",
       "      <td>No</td>\n",
       "    </tr>\n",
       "    <tr>\n",
       "      <th>4</th>\n",
       "      <td>SV005</td>\n",
       "      <td>6.0</td>\n",
       "      <td>5.4</td>\n",
       "      <td>7.6</td>\n",
       "      <td>4.4</td>\n",
       "      <td>6.8</td>\n",
       "      <td>8.0</td>\n",
       "      <td>M</td>\n",
       "      <td>NaN</td>\n",
       "      <td>2NT</td>\n",
       "      <td>4.25</td>\n",
       "      <td>4.50</td>\n",
       "      <td>5.00</td>\n",
       "      <td>A</td>\n",
       "      <td>12/7/2018</td>\n",
       "      <td>No</td>\n",
       "    </tr>\n",
       "    <tr>\n",
       "      <th>...</th>\n",
       "      <td>...</td>\n",
       "      <td>...</td>\n",
       "      <td>...</td>\n",
       "      <td>...</td>\n",
       "      <td>...</td>\n",
       "      <td>...</td>\n",
       "      <td>...</td>\n",
       "      <td>...</td>\n",
       "      <td>...</td>\n",
       "      <td>...</td>\n",
       "      <td>...</td>\n",
       "      <td>...</td>\n",
       "      <td>...</td>\n",
       "      <td>...</td>\n",
       "      <td>...</td>\n",
       "      <td>...</td>\n",
       "    </tr>\n",
       "    <tr>\n",
       "      <th>95</th>\n",
       "      <td>SV0096</td>\n",
       "      <td>8.6</td>\n",
       "      <td>8.9</td>\n",
       "      <td>7.7</td>\n",
       "      <td>6.7</td>\n",
       "      <td>7.9</td>\n",
       "      <td>6.6</td>\n",
       "      <td>F</td>\n",
       "      <td>NaN</td>\n",
       "      <td>1</td>\n",
       "      <td>5.25</td>\n",
       "      <td>1.50</td>\n",
       "      <td>6.25</td>\n",
       "      <td>C</td>\n",
       "      <td>7/20/2022</td>\n",
       "      <td>Yes</td>\n",
       "    </tr>\n",
       "    <tr>\n",
       "      <th>96</th>\n",
       "      <td>SV0097</td>\n",
       "      <td>3.7</td>\n",
       "      <td>4.1</td>\n",
       "      <td>3.1</td>\n",
       "      <td>3.4</td>\n",
       "      <td>5.5</td>\n",
       "      <td>5.7</td>\n",
       "      <td>F</td>\n",
       "      <td>NaN</td>\n",
       "      <td>1</td>\n",
       "      <td>5.25</td>\n",
       "      <td>3.75</td>\n",
       "      <td>4.75</td>\n",
       "      <td>C</td>\n",
       "      <td>7/20/2022</td>\n",
       "      <td>No</td>\n",
       "    </tr>\n",
       "    <tr>\n",
       "      <th>97</th>\n",
       "      <td>SV0098</td>\n",
       "      <td>8.8</td>\n",
       "      <td>9.5</td>\n",
       "      <td>9.5</td>\n",
       "      <td>8.5</td>\n",
       "      <td>9.0</td>\n",
       "      <td>8.5</td>\n",
       "      <td>M</td>\n",
       "      <td>NaN</td>\n",
       "      <td>2NT</td>\n",
       "      <td>7.00</td>\n",
       "      <td>8.00</td>\n",
       "      <td>4.00</td>\n",
       "      <td>C</td>\n",
       "      <td>7/20/2022</td>\n",
       "      <td>Yes</td>\n",
       "    </tr>\n",
       "    <tr>\n",
       "      <th>98</th>\n",
       "      <td>SV0099</td>\n",
       "      <td>2.7</td>\n",
       "      <td>2.8</td>\n",
       "      <td>6.2</td>\n",
       "      <td>5.2</td>\n",
       "      <td>4.1</td>\n",
       "      <td>4.3</td>\n",
       "      <td>M</td>\n",
       "      <td>NaN</td>\n",
       "      <td>1</td>\n",
       "      <td>5.00</td>\n",
       "      <td>3.50</td>\n",
       "      <td>5.50</td>\n",
       "      <td>C</td>\n",
       "      <td>7/20/2022</td>\n",
       "      <td>No</td>\n",
       "    </tr>\n",
       "    <tr>\n",
       "      <th>99</th>\n",
       "      <td>SV00100</td>\n",
       "      <td>4.1</td>\n",
       "      <td>4.4</td>\n",
       "      <td>6.0</td>\n",
       "      <td>4.3</td>\n",
       "      <td>5.6</td>\n",
       "      <td>5.1</td>\n",
       "      <td>M</td>\n",
       "      <td>NaN</td>\n",
       "      <td>2NT</td>\n",
       "      <td>5.25</td>\n",
       "      <td>2.50</td>\n",
       "      <td>4.25</td>\n",
       "      <td>C</td>\n",
       "      <td>7/20/2022</td>\n",
       "      <td>Yes</td>\n",
       "    </tr>\n",
       "  </tbody>\n",
       "</table>\n",
       "<p>100 rows × 16 columns</p>\n",
       "</div>"
      ],
      "text/plain": [
       "       MSSV   T1   T2   T3   T4   T5   T6 GT  DT   KV  NGONNGU  LOGIC  UNGXU  \\\n",
       "0     SV001  7.2  8.4  7.4  7.2  7.4  6.9  F NaN  2NT     3.25   3.25   4.50   \n",
       "1     SV002  5.4  6.3  4.3  4.9  3.0  4.0  M NaN    1     6.00   4.00   3.50   \n",
       "2     SV003  5.6  5.0  2.8  6.1  4.8  5.7  M NaN    1     5.00   6.75   4.00   \n",
       "3     SV004  6.6  5.1  5.9  4.1  6.1  7.4  M NaN    1     4.25   4.25   5.25   \n",
       "4     SV005  6.0  5.4  7.6  4.4  6.8  8.0  M NaN  2NT     4.25   4.50   5.00   \n",
       "..      ...  ...  ...  ...  ...  ...  ... ..  ..  ...      ...    ...    ...   \n",
       "95   SV0096  8.6  8.9  7.7  6.7  7.9  6.6  F NaN    1     5.25   1.50   6.25   \n",
       "96   SV0097  3.7  4.1  3.1  3.4  5.5  5.7  F NaN    1     5.25   3.75   4.75   \n",
       "97   SV0098  8.8  9.5  9.5  8.5  9.0  8.5  M NaN  2NT     7.00   8.00   4.00   \n",
       "98   SV0099  2.7  2.8  6.2  5.2  4.1  4.3  M NaN    1     5.00   3.50   5.50   \n",
       "99  SV00100  4.1  4.4  6.0  4.3  5.6  5.1  M NaN  2NT     5.25   2.50   4.25   \n",
       "\n",
       "    KT    NGAYTHI HUONGNGHIEP  \n",
       "0   A1  12/7/2018          No  \n",
       "1    C  12/7/2018         Yes  \n",
       "2    C  12/7/2018          No  \n",
       "3   D1  12/7/2018          No  \n",
       "4    A  12/7/2018          No  \n",
       "..  ..        ...         ...  \n",
       "95   C  7/20/2022         Yes  \n",
       "96   C  7/20/2022          No  \n",
       "97   C  7/20/2022         Yes  \n",
       "98   C  7/20/2022          No  \n",
       "99   C  7/20/2022         Yes  \n",
       "\n",
       "[100 rows x 16 columns]"
      ]
     },
     "execution_count": 17,
     "metadata": {},
     "output_type": "execute_result"
    }
   ],
   "source": [
    "import pandas as pd\n",
    "import seaborn as sns\n",
    "df = pd.read_csv('dulieuxettuyendaihoc.csv', header=0, delimiter=',', encoding='utf-8')\n",
    "# Đổi tên cột\n",
    "df.rename(columns={'TOANLOGICPHANTICH': 'LOGIC', 'GIAIQUYETVANDE': 'UNGXU', 'DINHHUONGNGHENGHIEP': 'HUONGNGHIEP'}, inplace=True)\n",
    "df"
   ]
  },
  {
   "cell_type": "code",
   "execution_count": 18,
   "metadata": {},
   "outputs": [],
   "source": [
    "# khi n < 30 thì dùng: One-sample T-test or Two-sample T-test\n",
    "# Khi n >= 30 thì dùng: One-sample Z-test or Two-sample Z-test"
   ]
  },
  {
   "cell_type": "code",
   "execution_count": 19,
   "metadata": {},
   "outputs": [
    {
     "data": {
      "text/plain": [
       "count    14.000000\n",
       "mean      4.232143\n",
       "std       1.947544\n",
       "min       1.500000\n",
       "25%       2.750000\n",
       "50%       3.875000\n",
       "75%       5.187500\n",
       "max       8.000000\n",
       "Name: LOGIC, dtype: float64"
      ]
     },
     "execution_count": 19,
     "metadata": {},
     "output_type": "execute_result"
    }
   ],
   "source": [
    "# ONE SAMPLE T-TEST\n",
    "# Mục đích: Kiểm định trung bình của một biến số (định lượng) có bằng một giá trị\n",
    "# Ho: mean = x\n",
    "# Câu 1: Hãy kiểm tra xem LOGIC thí sinh khối C có bằng 4.0\n",
    "dfKhoiC = df.loc[df['KT'] == 'C']\n",
    "dfKhoiC['LOGIC']\n",
    "dfKhoiC['LOGIC'].describe()\n"
   ]
  },
  {
   "cell_type": "code",
   "execution_count": 20,
   "metadata": {},
   "outputs": [
    {
     "data": {
      "text/plain": [
       "TtestResult(statistic=0.44599723713991907, pvalue=0.6629370899710998, df=13)"
      ]
     },
     "execution_count": 20,
     "metadata": {},
     "output_type": "execute_result"
    }
   ],
   "source": [
    "import scipy.stats as stats\n",
    "# Với one sample T-test thì giả thiết Ho(H_0): muy(mean) = 4.0\n",
    "# Mặc định mức tin cậy là 95% và mức sai lầm là 5%\n",
    "stats.ttest_1samp(dfKhoiC['LOGIC'], popmean=4.0)\n",
    "# Dựa trên dữ liệu của 14 người thi khối C ta đủ dữ kiện \n",
    "# để kết luận rằng trung bình của môn thi logic xấp xỉ là 4 với độ tin cây 95%(hay mức sai lầm là 5%)\n"
   ]
  },
  {
   "cell_type": "code",
   "execution_count": 21,
   "metadata": {},
   "outputs": [
    {
     "data": {
      "text/plain": [
       "TtestResult(statistic=-1.0329196014245297, pvalue=0.3111543826061086, df=26.0)"
      ]
     },
     "execution_count": 21,
     "metadata": {},
     "output_type": "execute_result"
    }
   ],
   "source": [
    "# TWO SAMPLE T-TEST\n",
    "# Mục đích: Kiểm tra xem trung bình của 2 biến số (định lượng) có bằng nhau không\n",
    "# Ho: delta_mean = 0\n",
    "# Hãy kiểm tra xem trung bình điểm thi LOGIC và\n",
    "# trung bình điểm thi UNGXU của thí sinh thi khối C có bằng nhau không?\n",
    "# Ho: mean_LOGIC - mean_UNGXU = 0\n",
    "dfKhoiC = df.loc[df['KT'] == 'C']\n",
    "stats.ttest_ind(dfKhoiC['LOGIC'], dfKhoiC['UNGXU'], equal_var=True)\n"
   ]
  },
  {
   "cell_type": "code",
   "execution_count": 22,
   "metadata": {},
   "outputs": [
    {
     "data": {
      "text/plain": [
       "(-7.797828845339864, 6.298135014120743e-15)"
      ]
     },
     "execution_count": 22,
     "metadata": {},
     "output_type": "execute_result"
    }
   ],
   "source": [
    "from statsmodels.stats.weightstats import ztest as ztest\n",
    "# Hãy kiểm tra xem trung bình điểm toán học kì 2 lớp 12 có bằng 8.0\n",
    "ztest(df['T6'], value=8.0)\n",
    "\n",
    "# p_value: 6.29e-15 < 0.05 => bác bỏ"
   ]
  },
  {
   "cell_type": "code",
   "execution_count": 23,
   "metadata": {},
   "outputs": [
    {
     "data": {
      "text/plain": [
       "(-1.094138573502891, 0.273894207026412)"
      ]
     },
     "execution_count": 23,
     "metadata": {},
     "output_type": "execute_result"
    }
   ],
   "source": [
    "# Hãy kiểm tra xem điểm trung bình toán học kì 1\n",
    "# và học kì 2 năm lớp 12 có bằng nhau không\n",
    "ztest(df['T5'], df['T6'], value=0)\n"
   ]
  },
  {
   "cell_type": "code",
   "execution_count": 24,
   "metadata": {},
   "outputs": [],
   "source": [
    "# p_value = 0.273 => đủ dữ kiện để nói trung bình điểm hk2 lớp 12 của T5 = T6 với độ tin cậy 95%"
   ]
  },
  {
   "cell_type": "code",
   "execution_count": 25,
   "metadata": {},
   "outputs": [
    {
     "data": {
      "text/plain": [
       "(-4.172765180703833, 3.009250404643791e-05)"
      ]
     },
     "execution_count": 25,
     "metadata": {},
     "output_type": "execute_result"
    }
   ],
   "source": [
    "# Kiểm tra trung bình LOGIC và UNGXU có bằng nhau không\n",
    "# với mức tin cậy 95%\n",
    "ztest(df['LOGIC'], df['UNGXU'], value=0)\n"
   ]
  },
  {
   "cell_type": "code",
   "execution_count": 26,
   "metadata": {},
   "outputs": [],
   "source": [
    "# p_value = 3.009e-15 < 0.05 => bác bỏ"
   ]
  },
  {
   "cell_type": "code",
   "execution_count": 27,
   "metadata": {},
   "outputs": [],
   "source": [
    "# Kiểm định tương quan R+pearson nằm [-1, 1]\n",
    "# suy diễn H_0: r = 0"
   ]
  },
  {
   "cell_type": "code",
   "execution_count": 28,
   "metadata": {},
   "outputs": [
    {
     "data": {
      "text/plain": [
       "PearsonRResult(statistic=0.7786831657869809, pvalue=1.4846407216273482e-21)"
      ]
     },
     "execution_count": 28,
     "metadata": {},
     "output_type": "execute_result"
    }
   ],
   "source": [
    "from scipy.stats import pearsonr\n",
    "# Câu 5: Kiểm tra xem điểm toán học kì 1 và học kì 2 năm lớp 12 có tương quan không?\n",
    "pearsonr(df['T5'], df['T6'])"
   ]
  },
  {
   "cell_type": "code",
   "execution_count": 29,
   "metadata": {},
   "outputs": [],
   "source": [
    "# statistic (tương quan mẫu) or R_pearson = 0.77\n",
    "#R_pearson < 0.5\n",
    "\n",
    "# p_value = 1.48e-21 < alpha = 0.05 => bác bỏ \n",
    "# kết luận trên tương quan mẫu T5, T6 tương quan thuận và mức độ tương quan rất tốt.\n",
    "# Suy diễn ra tổng thể ta thấy p_value = 1.48e - 21 < alpha vì vậy bác bỏ H_0 vì vậy T5, T6 có tương quan"
   ]
  },
  {
   "cell_type": "code",
   "execution_count": 30,
   "metadata": {},
   "outputs": [
    {
     "data": {
      "text/plain": [
       "PearsonRResult(statistic=0.1846466122601273, pvalue=0.06590059130545516)"
      ]
     },
     "execution_count": 30,
     "metadata": {},
     "output_type": "execute_result"
    }
   ],
   "source": [
    "# Sinh viên làm tương tự cho T5 và LOGIC có tương quan hay không?\n",
    "pearsonr(df['T5'], df['LOGIC'])"
   ]
  },
  {
   "cell_type": "code",
   "execution_count": 31,
   "metadata": {},
   "outputs": [],
   "source": [
    "# R_pearson = 0.184 => trên mẫu thì T5 và Logic thì tương quan thuận nhưng quá thấp\n",
    "\n",
    "#p_value = 0.065 > alpha => chấp nhận H_0\n",
    "# Kết luận T5 và Logic không tương quan"
   ]
  },
  {
   "cell_type": "code",
   "execution_count": 32,
   "metadata": {},
   "outputs": [],
   "source": [
    "# Fisher Test (định trình + định tính)\n",
    "# H_0: các biến độc lập"
   ]
  },
  {
   "cell_type": "code",
   "execution_count": 33,
   "metadata": {},
   "outputs": [
    {
     "data": {
      "text/html": [
       "<div>\n",
       "<style scoped>\n",
       "    .dataframe tbody tr th:only-of-type {\n",
       "        vertical-align: middle;\n",
       "    }\n",
       "\n",
       "    .dataframe tbody tr th {\n",
       "        vertical-align: top;\n",
       "    }\n",
       "\n",
       "    .dataframe thead th {\n",
       "        text-align: right;\n",
       "    }\n",
       "</style>\n",
       "<table border=\"1\" class=\"dataframe\">\n",
       "  <thead>\n",
       "    <tr style=\"text-align: right;\">\n",
       "      <th>HUONGNGHIEP</th>\n",
       "      <th>No</th>\n",
       "      <th>Yes</th>\n",
       "    </tr>\n",
       "    <tr>\n",
       "      <th>GT</th>\n",
       "      <th></th>\n",
       "      <th></th>\n",
       "    </tr>\n",
       "  </thead>\n",
       "  <tbody>\n",
       "    <tr>\n",
       "      <th>F</th>\n",
       "      <td>23</td>\n",
       "      <td>25</td>\n",
       "    </tr>\n",
       "    <tr>\n",
       "      <th>M</th>\n",
       "      <td>32</td>\n",
       "      <td>20</td>\n",
       "    </tr>\n",
       "  </tbody>\n",
       "</table>\n",
       "</div>"
      ],
      "text/plain": [
       "HUONGNGHIEP  No  Yes\n",
       "GT                  \n",
       "F            23   25\n",
       "M            32   20"
      ]
     },
     "execution_count": 33,
     "metadata": {},
     "output_type": "execute_result"
    }
   ],
   "source": [
    "import scipy.stats as stats\n",
    "# Hãy kiểm tra xem có sự phụ thuộc nào giữa việc sinh viên có định hướng nghề nghiệp\n",
    "# và giới tính khi thí sinh đăng ký dự thi hay không\n",
    "crosdata = pd.crosstab(df['GT'], [df['HUONGNGHIEP']], rownames=['GT'], colnames=['HUONGNGHIEP'])\n",
    "crosdata\n",
    "\n"
   ]
  },
  {
   "cell_type": "code",
   "execution_count": 34,
   "metadata": {},
   "outputs": [
    {
     "name": "stdout",
     "output_type": "stream",
     "text": [
      "odd ratio is : 0.575\n",
      "p_value is : 0.22763927303454412\n"
     ]
    }
   ],
   "source": [
    "odd_ratio, p_value = stats.fisher_exact(crosdata)\n",
    "print('odd ratio is : ' + str(odd_ratio))\n",
    "print('p_value is : ' + str(p_value))"
   ]
  },
  {
   "cell_type": "code",
   "execution_count": 36,
   "metadata": {},
   "outputs": [
    {
     "data": {
      "text/html": [
       "<div>\n",
       "<style scoped>\n",
       "    .dataframe tbody tr th:only-of-type {\n",
       "        vertical-align: middle;\n",
       "    }\n",
       "\n",
       "    .dataframe tbody tr th {\n",
       "        vertical-align: top;\n",
       "    }\n",
       "\n",
       "    .dataframe thead th {\n",
       "        text-align: right;\n",
       "    }\n",
       "</style>\n",
       "<table border=\"1\" class=\"dataframe\">\n",
       "  <thead>\n",
       "    <tr style=\"text-align: right;\">\n",
       "      <th>KT</th>\n",
       "      <th>A</th>\n",
       "      <th>A1</th>\n",
       "      <th>B</th>\n",
       "      <th>C</th>\n",
       "      <th>D1</th>\n",
       "    </tr>\n",
       "    <tr>\n",
       "      <th>KV</th>\n",
       "      <th></th>\n",
       "      <th></th>\n",
       "      <th></th>\n",
       "      <th></th>\n",
       "      <th></th>\n",
       "    </tr>\n",
       "  </thead>\n",
       "  <tbody>\n",
       "    <tr>\n",
       "      <th>1</th>\n",
       "      <td>29</td>\n",
       "      <td>2</td>\n",
       "      <td>8</td>\n",
       "      <td>8</td>\n",
       "      <td>13</td>\n",
       "    </tr>\n",
       "    <tr>\n",
       "      <th>2</th>\n",
       "      <td>9</td>\n",
       "      <td>0</td>\n",
       "      <td>0</td>\n",
       "      <td>2</td>\n",
       "      <td>8</td>\n",
       "    </tr>\n",
       "    <tr>\n",
       "      <th>2NT</th>\n",
       "      <td>11</td>\n",
       "      <td>4</td>\n",
       "      <td>1</td>\n",
       "      <td>4</td>\n",
       "      <td>1</td>\n",
       "    </tr>\n",
       "  </tbody>\n",
       "</table>\n",
       "</div>"
      ],
      "text/plain": [
       "KT    A  A1  B  C  D1\n",
       "KV                   \n",
       "1    29   2  8  8  13\n",
       "2     9   0  0  2   8\n",
       "2NT  11   4  1  4   1"
      ]
     },
     "execution_count": 36,
     "metadata": {},
     "output_type": "execute_result"
    }
   ],
   "source": [
    "# Chi_Square: H_0: các biến độc lập\n",
    "from scipy.stats import chi2_contingency\n",
    "# Hãy kiểm tra xem có sự phụ thuộc nào giữa khối thi và khu vực khi đăng ký dự thi hay không\n",
    "crosdata = pd.crosstab(df['KV'], [df['KT']], rownames=['KV'], colnames=['KT'])\n",
    "crosdata\n"
   ]
  },
  {
   "cell_type": "code",
   "execution_count": 37,
   "metadata": {},
   "outputs": [
    {
     "name": "stdout",
     "output_type": "stream",
     "text": [
      "p value is 0.02012461887796485\n",
      "Dependent (reject H0)\n"
     ]
    }
   ],
   "source": [
    "stat, p, dof, expected = chi2_contingency(crosdata)\n",
    " \n",
    "# interpret p-value\n",
    "alpha = 0.05\n",
    "print(\"p value is \" + str(p))\n",
    "if p <= alpha:\n",
    "    print('Dependent (reject H0)')\n",
    "else:\n",
    "    print('Independent (H0 holds true)')"
   ]
  },
  {
   "cell_type": "code",
   "execution_count": null,
   "metadata": {},
   "outputs": [],
   "source": [
    "# Kết luận có sự phụ thuộc giữa khu vực và khối thi"
   ]
  },
  {
   "cell_type": "code",
   "execution_count": 40,
   "metadata": {},
   "outputs": [
    {
     "name": "stdout",
     "output_type": "stream",
     "text": [
      "p value is 0.005044752209452435\n",
      "Dependent (reject H0)\n"
     ]
    }
   ],
   "source": [
    "# GT và KT có mối quan hệ hay không?\n",
    "crosdata = pd.crosstab(df['GT'], [df['KT']], rownames=['GT'], colnames=['KT'])\n",
    "stat, p, dof, expected = chi2_contingency(crosdata)\n",
    " \n",
    "# interpret p-value\n",
    "alpha = 0.05\n",
    "print(\"p value is \" + str(p))\n",
    "if p <= alpha:\n",
    "    print('Dependent (reject H0)')\n",
    "else:\n",
    "    print('Independent (H0 holds true)')"
   ]
  },
  {
   "cell_type": "code",
   "execution_count": 45,
   "metadata": {},
   "outputs": [
    {
     "data": {
      "text/html": [
       "<div>\n",
       "<style scoped>\n",
       "    .dataframe tbody tr th:only-of-type {\n",
       "        vertical-align: middle;\n",
       "    }\n",
       "\n",
       "    .dataframe tbody tr th {\n",
       "        vertical-align: top;\n",
       "    }\n",
       "\n",
       "    .dataframe thead th {\n",
       "        text-align: right;\n",
       "    }\n",
       "</style>\n",
       "<table border=\"1\" class=\"dataframe\">\n",
       "  <thead>\n",
       "    <tr style=\"text-align: right;\">\n",
       "      <th></th>\n",
       "      <th>df</th>\n",
       "      <th>sum_sq</th>\n",
       "      <th>mean_sq</th>\n",
       "      <th>F</th>\n",
       "      <th>PR(&gt;F)</th>\n",
       "    </tr>\n",
       "  </thead>\n",
       "  <tbody>\n",
       "    <tr>\n",
       "      <th>GT</th>\n",
       "      <td>1.0</td>\n",
       "      <td>1.55201</td>\n",
       "      <td>1.55201</td>\n",
       "      <td>0.833769</td>\n",
       "      <td>0.363426</td>\n",
       "    </tr>\n",
       "    <tr>\n",
       "      <th>Residual</th>\n",
       "      <td>98.0</td>\n",
       "      <td>182.42109</td>\n",
       "      <td>1.86144</td>\n",
       "      <td>NaN</td>\n",
       "      <td>NaN</td>\n",
       "    </tr>\n",
       "  </tbody>\n",
       "</table>\n",
       "</div>"
      ],
      "text/plain": [
       "            df     sum_sq  mean_sq         F    PR(>F)\n",
       "GT         1.0    1.55201  1.55201  0.833769  0.363426\n",
       "Residual  98.0  182.42109  1.86144       NaN       NaN"
      ]
     },
     "execution_count": 45,
     "metadata": {},
     "output_type": "execute_result"
    }
   ],
   "source": [
    "import statsmodels.api as sm\n",
    "from statsmodels.formula.api import ols\n",
    "\n",
    "\n",
    "model = ols('T6 ~ GT', data=df).fit()\n",
    "aov_table = sm.stats.anova_lm(model, typ=1)\n",
    "aov_table\n"
   ]
  },
  {
   "cell_type": "code",
   "execution_count": null,
   "metadata": {},
   "outputs": [],
   "source": [
    "# H0 mean(T6) (M) = mean(T6) (F)\n",
    "# p_value = 0.363 > 0.05 => Aceept H0"
   ]
  },
  {
   "cell_type": "code",
   "execution_count": 46,
   "metadata": {},
   "outputs": [
    {
     "data": {
      "text/html": [
       "<div>\n",
       "<style scoped>\n",
       "    .dataframe tbody tr th:only-of-type {\n",
       "        vertical-align: middle;\n",
       "    }\n",
       "\n",
       "    .dataframe tbody tr th {\n",
       "        vertical-align: top;\n",
       "    }\n",
       "\n",
       "    .dataframe thead th {\n",
       "        text-align: right;\n",
       "    }\n",
       "</style>\n",
       "<table border=\"1\" class=\"dataframe\">\n",
       "  <thead>\n",
       "    <tr style=\"text-align: right;\">\n",
       "      <th></th>\n",
       "      <th>df</th>\n",
       "      <th>sum_sq</th>\n",
       "      <th>mean_sq</th>\n",
       "      <th>F</th>\n",
       "      <th>PR(&gt;F)</th>\n",
       "    </tr>\n",
       "  </thead>\n",
       "  <tbody>\n",
       "    <tr>\n",
       "      <th>KV</th>\n",
       "      <td>2.0</td>\n",
       "      <td>6.166769</td>\n",
       "      <td>3.083385</td>\n",
       "      <td>1.682102</td>\n",
       "      <td>0.191362</td>\n",
       "    </tr>\n",
       "    <tr>\n",
       "      <th>Residual</th>\n",
       "      <td>97.0</td>\n",
       "      <td>177.806331</td>\n",
       "      <td>1.833055</td>\n",
       "      <td>NaN</td>\n",
       "      <td>NaN</td>\n",
       "    </tr>\n",
       "  </tbody>\n",
       "</table>\n",
       "</div>"
      ],
      "text/plain": [
       "            df      sum_sq   mean_sq         F    PR(>F)\n",
       "KV         2.0    6.166769  3.083385  1.682102  0.191362\n",
       "Residual  97.0  177.806331  1.833055       NaN       NaN"
      ]
     },
     "execution_count": 46,
     "metadata": {},
     "output_type": "execute_result"
    }
   ],
   "source": [
    "\n",
    "\n",
    "# Điểm LOGIC có phụ thuộc vào khu vực hay không\n",
    "\n",
    "model = ols('T6 ~ KV', data=df).fit()\n",
    "aov_table = sm.stats.anova_lm(model, typ=1)\n",
    "aov_table"
   ]
  },
  {
   "cell_type": "code",
   "execution_count": null,
   "metadata": {},
   "outputs": [],
   "source": []
  },
  {
   "cell_type": "code",
   "execution_count": 47,
   "metadata": {},
   "outputs": [
    {
     "data": {
      "text/html": [
       "<div>\n",
       "<style scoped>\n",
       "    .dataframe tbody tr th:only-of-type {\n",
       "        vertical-align: middle;\n",
       "    }\n",
       "\n",
       "    .dataframe tbody tr th {\n",
       "        vertical-align: top;\n",
       "    }\n",
       "\n",
       "    .dataframe thead th {\n",
       "        text-align: right;\n",
       "    }\n",
       "</style>\n",
       "<table border=\"1\" class=\"dataframe\">\n",
       "  <thead>\n",
       "    <tr style=\"text-align: right;\">\n",
       "      <th></th>\n",
       "      <th>df</th>\n",
       "      <th>sum_sq</th>\n",
       "      <th>mean_sq</th>\n",
       "      <th>F</th>\n",
       "      <th>PR(&gt;F)</th>\n",
       "    </tr>\n",
       "  </thead>\n",
       "  <tbody>\n",
       "    <tr>\n",
       "      <th>KT</th>\n",
       "      <td>4.0</td>\n",
       "      <td>3.967636</td>\n",
       "      <td>0.991909</td>\n",
       "      <td>0.911814</td>\n",
       "      <td>0.46041</td>\n",
       "    </tr>\n",
       "    <tr>\n",
       "      <th>Residual</th>\n",
       "      <td>95.0</td>\n",
       "      <td>103.344864</td>\n",
       "      <td>1.087841</td>\n",
       "      <td>NaN</td>\n",
       "      <td>NaN</td>\n",
       "    </tr>\n",
       "  </tbody>\n",
       "</table>\n",
       "</div>"
      ],
      "text/plain": [
       "            df      sum_sq   mean_sq         F   PR(>F)\n",
       "KT         4.0    3.967636  0.991909  0.911814  0.46041\n",
       "Residual  95.0  103.344864  1.087841       NaN      NaN"
      ]
     },
     "execution_count": 47,
     "metadata": {},
     "output_type": "execute_result"
    }
   ],
   "source": [
    "\n",
    "# Điểm UNGXU có phụ thuộc khối thi hay không\n",
    "\n",
    "model = ols('UNGXU ~ KT', data=df).fit()\n",
    "aov_table = sm.stats.anova_lm(model, typ=1)\n",
    "aov_table"
   ]
  },
  {
   "cell_type": "code",
   "execution_count": 48,
   "metadata": {},
   "outputs": [
    {
     "name": "stdout",
     "output_type": "stream",
     "text": [
      "            df     sum_sq   mean_sq         F    PR(>F)\n",
      "GT         1.0   3.998401  3.998401  3.853364  0.052602\n",
      "KV         2.0   8.561314  4.280657  4.125382  0.019173\n",
      "GT:KV      2.0   1.149707  0.574854  0.554002  0.576510\n",
      "Residual  94.0  97.538077  1.037639       NaN       NaN\n"
     ]
    }
   ],
   "source": [
    "# Hãy cho biết điểm LOGIC có phụ thuộc vào loại GT trên từng nhóm KV hay không\n",
    "model = ols('LOGIC ~ GT + KV + GT:KV',data=df).fit()\n",
    "result = sm.stats.anova_lm(model, type=2)\n",
    " \n",
    "# Print the result\n",
    "print(result)\n",
    "\n",
    "\n"
   ]
  },
  {
   "cell_type": "code",
   "execution_count": null,
   "metadata": {},
   "outputs": [],
   "source": [
    "# Logic -> GT => p_value = 0.052 => Accept => không phụ thuộc\n",
    "# Logic -> KV => p_value = 0.019 => Reject => có phụ thuộc\n",
    "# Logic -> GT&KV => p_value = 0.57 => Accept => Không phục thuộc (Xét trên từng nhóm nhỏ)"
   ]
  },
  {
   "cell_type": "code",
   "execution_count": 49,
   "metadata": {},
   "outputs": [
    {
     "name": "stdout",
     "output_type": "stream",
     "text": [
      "            df      sum_sq    mean_sq          F        PR(>F)\n",
      "KV         2.0    4.237274   2.118637   1.416009  2.482173e-01\n",
      "KT         4.0   65.431143  16.357786  10.932867  3.150065e-07\n",
      "KV:KT      8.0    1.486487   0.185811   0.124188  9.981082e-01\n",
      "Residual  87.0  130.169640   1.496203        NaN           NaN\n"
     ]
    }
   ],
   "source": [
    "#Phân tích xem NGONNGU có phụ thuộc trên nhóm KV theo từng loại KT hay không\n",
    "model = ols('NGONNGU ~ KV + KT + KV:KT',data=df).fit()\n",
    "result = sm.stats.anova_lm(model, type=2)\n",
    " \n",
    "# Print the result\n",
    "print(result)"
   ]
  },
  {
   "cell_type": "code",
   "execution_count": null,
   "metadata": {},
   "outputs": [],
   "source": [
    "# NGONNGU -> KV => p_value = 2.48e-1 > 0.05 => Reject => phụ thuộc"
   ]
  },
  {
   "cell_type": "code",
   "execution_count": null,
   "metadata": {},
   "outputs": [],
   "source": [
    "# PHÂN TÍCH HỒI QUY\n",
    "# Mục đích: Phân tích sự ảnh hưởng (tác động) giữa các biến số (định lượng)\n",
    "# Giả định: sử dụng hàm hồi quy tuyến tình: Y = A0 + A1 * X1 + ... + An * Xn + E\n",
    "# ví dụ :Hãy phân tích sự tác dộng giữa điểm T5 với T6\n",
    "# y =f(x) => T6 = f(T5) trong đó T6 được gọi là biến phụ thuộc và T5 là biến độc lập or biến giải thích\n",
    "# => T6 = A0 + A1 * T5 + E trong đó A0: Interception; A1: Cofficient; E: phần dư\n"
   ]
  },
  {
   "cell_type": "code",
   "execution_count": 50,
   "metadata": {},
   "outputs": [
    {
     "name": "stdout",
     "output_type": "stream",
     "text": [
      "                            OLS Regression Results                            \n",
      "==============================================================================\n",
      "Dep. Variable:                      y   R-squared:                       0.606\n",
      "Model:                            OLS   Adj. R-squared:                  0.602\n",
      "Method:                 Least Squares   F-statistic:                     151.0\n",
      "Date:                Sat, 09 Sep 2023   Prob (F-statistic):           1.48e-21\n",
      "Time:                        08:23:14   Log-Likelihood:                -125.76\n",
      "No. Observations:                 100   AIC:                             255.5\n",
      "Df Residuals:                      98   BIC:                             260.7\n",
      "Df Model:                           1                                         \n",
      "Covariance Type:            nonrobust                                         \n",
      "==============================================================================\n",
      "                 coef    std err          t      P>|t|      [0.025      0.975]\n",
      "------------------------------------------------------------------------------\n",
      "const          2.1130      0.402      5.257      0.000       1.315       2.911\n",
      "x1             0.7182      0.058     12.286      0.000       0.602       0.834\n",
      "==============================================================================\n",
      "Omnibus:                        1.387   Durbin-Watson:                   1.738\n",
      "Prob(Omnibus):                  0.500   Jarque-Bera (JB):                0.860\n",
      "Skew:                          -0.104   Prob(JB):                        0.650\n",
      "Kurtosis:                       3.404   Cond. No.                         32.8\n",
      "==============================================================================\n",
      "\n",
      "Notes:\n",
      "[1] Standard Errors assume that the covariance matrix of the errors is correctly specified.\n"
     ]
    }
   ],
   "source": [
    "# Hãy cho biết sự ảnh hưởng của điểm học kì 1 năm lớp 12 đến điểm học kì 2 năm lớp 12\n",
    "\n",
    "\n",
    "import statsmodels.api as sm\n",
    "\n",
    "\n",
    "#adding a constant\n",
    "X_with_constant = sm.add_constant(df[[\"T5\"]].values)\n",
    "\n",
    "\n",
    "y = df[['T6']].values\n",
    "\n",
    "\n",
    "#performing the regression\n",
    "result = sm.OLS(y, X_with_constant).fit()\n",
    "\n",
    "\n",
    "# Result of statsmodels\n",
    "print(result.summary())"
   ]
  },
  {
   "cell_type": "code",
   "execution_count": null,
   "metadata": {},
   "outputs": [],
   "source": [
    "# Trong bảng giá trị\n",
    "# Model : machine Learning OLS\n",
    "# R-squared: 0.606 cho biết 60% sự thay đổi của biến T6 dựa trên T5 (Có nghĩa là hiểu được 60 % của T6 dựa vào T5)\n",
    "#  Prob (F-statistic): 1.48e-21(1.48 *10(-21)) < alpha = 0.05 => mô hình này phù hợp\n",
    "# => T6 = A0 + A1 * T5 + E \n",
    "# trong cột coef: const = 2.1130 và x1 = 0.7182 => T6 = 2.113 + 0.7182 * T5\n",
    "# trong cột P > |t| -> const: 0.000 -> chứng tỏ việc khám phá T6 dựa trên T5 có ý nghĩa\n",
    "# nếu giá trị T6 được tính từ T5 theo phương trình trên thì ta gọi là giá trị dự báo\n",
    "# ví dụ : nếu T5 = 7 -> dự báo xem sang hk sau thì T6 = 2.113 + 0.7182 * 7 = 7.14"
   ]
  },
  {
   "cell_type": "code",
   "execution_count": 51,
   "metadata": {},
   "outputs": [
    {
     "name": "stdout",
     "output_type": "stream",
     "text": [
      "                            OLS Regression Results                            \n",
      "==============================================================================\n",
      "Dep. Variable:                      y   R-squared:                       0.091\n",
      "Model:                            OLS   Adj. R-squared:                  0.082\n",
      "Method:                 Least Squares   F-statistic:                     9.798\n",
      "Date:                Sat, 09 Sep 2023   Prob (F-statistic):            0.00230\n",
      "Time:                        08:37:34   Log-Likelihood:                -167.61\n",
      "No. Observations:                 100   AIC:                             339.2\n",
      "Df Residuals:                      98   BIC:                             344.4\n",
      "Df Model:                           1                                         \n",
      "Covariance Type:            nonrobust                                         \n",
      "==============================================================================\n",
      "                 coef    std err          t      P>|t|      [0.025      0.975]\n",
      "------------------------------------------------------------------------------\n",
      "const          5.2873      0.543      9.738      0.000       4.210       6.365\n",
      "x1             0.3877      0.124      3.130      0.002       0.142       0.634\n",
      "==============================================================================\n",
      "Omnibus:                        3.433   Durbin-Watson:                   1.792\n",
      "Prob(Omnibus):                  0.180   Jarque-Bera (JB):                3.392\n",
      "Skew:                          -0.441   Prob(JB):                        0.183\n",
      "Kurtosis:                       2.810   Cond. No.                         19.1\n",
      "==============================================================================\n",
      "\n",
      "Notes:\n",
      "[1] Standard Errors assume that the covariance matrix of the errors is correctly specified.\n"
     ]
    }
   ],
   "source": [
    "# Sinh viên tự khám phá sự ảnh hưởng của T6 đến điểm thi LOGIC\n",
    "\n",
    "\n",
    "#adding a constant\n",
    "X_with_constant = sm.add_constant(df[[\"LOGIC\"]].values)\n",
    "\n",
    "\n",
    "y = df[['T6']].values\n",
    "\n",
    "\n",
    "#performing the regression\n",
    "result = sm.OLS(y, X_with_constant).fit()\n",
    "\n",
    "\n",
    "# Result of statsmodels\n",
    "print(result.summary())"
   ]
  },
  {
   "cell_type": "code",
   "execution_count": null,
   "metadata": {},
   "outputs": [],
   "source": [
    "# Dựa vào bảng điểm Logic ảnh hưởng đến T6 chỉ có 9.1% => điều này quá thấp dẫn đến độ tin cậy thấp\n",
    "# T6 = 5.2873 + 0.3877*LOGIC"
   ]
  },
  {
   "cell_type": "code",
   "execution_count": null,
   "metadata": {},
   "outputs": [],
   "source": [
    "# Hãy phân tích sự ảnh hưởng của điểm toán học kì 1,2 năm lớp 12 đến điểm LOGIC\n",
    "# Cho biết nếu T5 = 6.0 và T6 = 5.5 thì dự đoán học sinh đi thi sẽ được điểm LOGIC là nhiêu\n"
   ]
  },
  {
   "cell_type": "code",
   "execution_count": 55,
   "metadata": {},
   "outputs": [
    {
     "name": "stdout",
     "output_type": "stream",
     "text": [
      "                            OLS Regression Results                            \n",
      "==============================================================================\n",
      "Dep. Variable:                      y   R-squared:                       0.097\n",
      "Model:                            OLS   Adj. R-squared:                  0.079\n",
      "Method:                 Least Squares   F-statistic:                     5.226\n",
      "Date:                Sat, 09 Sep 2023   Prob (F-statistic):            0.00699\n",
      "Time:                        08:47:24   Log-Likelihood:                -142.11\n",
      "No. Observations:                 100   AIC:                             290.2\n",
      "Df Residuals:                      97   BIC:                             298.0\n",
      "Df Model:                           2                                         \n",
      "Covariance Type:            nonrobust                                         \n",
      "==============================================================================\n",
      "                 coef    std err          t      P>|t|      [0.025      0.975]\n",
      "------------------------------------------------------------------------------\n",
      "const          2.7072      0.539      5.026      0.000       1.638       3.776\n",
      "x1            -0.0913      0.110     -0.828      0.410      -0.310       0.128\n",
      "x2             0.3115      0.120      2.606      0.011       0.074       0.549\n",
      "==============================================================================\n",
      "Omnibus:                       14.098   Durbin-Watson:                   2.005\n",
      "Prob(Omnibus):                  0.001   Jarque-Bera (JB):               17.272\n",
      "Skew:                           0.745   Prob(JB):                     0.000178\n",
      "Kurtosis:                       4.387   Cond. No.                         52.7\n",
      "==============================================================================\n",
      "\n",
      "Notes:\n",
      "[1] Standard Errors assume that the covariance matrix of the errors is correctly specified.\n"
     ]
    }
   ],
   "source": [
    "# Hãy phân tích sự ảnh hưởng của điểm toán học kì 1,2 năm lớp 12 đến điểm LOGIC\n",
    "#adding a constant\n",
    "X_with_constant = sm.add_constant(df[[\"T5\", 'T6']].values)\n",
    "\n",
    "\n",
    "y = df[['LOGIC']].values\n",
    "\n",
    "\n",
    "#performing the regression\n",
    "result = sm.OLS(y, X_with_constant).fit()\n",
    "\n",
    "\n",
    "# Result of statsmodels\n",
    "print(result.summary())\n",
    "\n",
    "# Cho biết nếu T5 = 6.0 và T6 = 5.5 thì dự đoán học sinh đi thi sẽ được điểm LOGIC là nhiêu\n"
   ]
  }
 ],
 "metadata": {
  "kernelspec": {
   "display_name": "Python 3",
   "language": "python",
   "name": "python3"
  },
  "language_info": {
   "codemirror_mode": {
    "name": "ipython",
    "version": 3
   },
   "file_extension": ".py",
   "mimetype": "text/x-python",
   "name": "python",
   "nbconvert_exporter": "python",
   "pygments_lexer": "ipython3",
   "version": "3.11.4"
  },
  "orig_nbformat": 4
 },
 "nbformat": 4,
 "nbformat_minor": 2
}
